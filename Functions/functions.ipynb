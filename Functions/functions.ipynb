{
 "cells": [
  {
   "cell_type": "markdown",
   "id": "01ca9c71-bd5b-4713-b982-9255b365c077",
   "metadata": {},
   "source": [
    "# Functions"
   ]
  },
  {
   "cell_type": "code",
   "execution_count": 1,
   "id": "a0d4e092-1d11-4ff2-8eb3-03719fa475ef",
   "metadata": {},
   "outputs": [],
   "source": [
    "import pandas as pd\n",
    "import numpy as np\n",
    "import matplotlib.pyplot as plt\n",
    "from pathlib import Path"
   ]
  },
  {
   "cell_type": "markdown",
   "id": "a64c5d10-4983-4ae8-951e-c41fc0dde00b",
   "metadata": {},
   "source": [
    "## 1. - Paramètres par défaut"
   ]
  },
  {
   "cell_type": "code",
   "execution_count": 2,
   "id": "4bbd29af-b01e-4387-9203-2cc6bd55e611",
   "metadata": {},
   "outputs": [
    {
     "data": {
      "text/plain": [
       "\u001b[1;31mInit signature:\u001b[0m \u001b[0mrange\u001b[0m\u001b[1;33m(\u001b[0m\u001b[0mself\u001b[0m\u001b[1;33m,\u001b[0m \u001b[1;33m/\u001b[0m\u001b[1;33m,\u001b[0m \u001b[1;33m*\u001b[0m\u001b[0margs\u001b[0m\u001b[1;33m,\u001b[0m \u001b[1;33m**\u001b[0m\u001b[0mkwargs\u001b[0m\u001b[1;33m)\u001b[0m\u001b[1;33m\u001b[0m\u001b[1;33m\u001b[0m\u001b[0m\n",
       "\u001b[1;31mDocstring:\u001b[0m     \n",
       "range(stop) -> range object\n",
       "range(start, stop[, step]) -> range object\n",
       "\n",
       "Return an object that produces a sequence of integers from start (inclusive)\n",
       "to stop (exclusive) by step.  range(i, j) produces i, i+1, i+2, ..., j-1.\n",
       "start defaults to 0, and stop is omitted!  range(4) produces 0, 1, 2, 3.\n",
       "These are exactly the valid indices for a list of 4 elements.\n",
       "When step is given, it specifies the increment (or decrement).\n",
       "\u001b[1;31mType:\u001b[0m           type\n",
       "\u001b[1;31mSubclasses:\u001b[0m     \n"
      ]
     },
     "metadata": {},
     "output_type": "display_data"
    }
   ],
   "source": [
    "range?"
   ]
  },
  {
   "cell_type": "code",
   "execution_count": 3,
   "id": "a41c2421-8794-4e10-983e-fe2e935a1a5a",
   "metadata": {},
   "outputs": [
    {
     "name": "stdout",
     "output_type": "stream",
     "text": [
      "[0, 1, 2, 3, 4, 5, 6, 7, 8, 9]\n",
      "[1, 2, 3, 4, 5, 6, 7, 8, 9]\n",
      "[1, 3, 5, 7, 9]\n"
     ]
    }
   ],
   "source": [
    "print(list(range(10)))\n",
    "print(list(range(1, 10)))\n",
    "print(list(range(1, 10, 2)))"
   ]
  },
  {
   "cell_type": "code",
   "execution_count": 4,
   "id": "8903c529-66a0-4b92-b15f-476ddc725767",
   "metadata": {},
   "outputs": [],
   "source": [
    "def somme(iterable, start=0):\n",
    "    return sum(iterable, start)"
   ]
  },
  {
   "cell_type": "code",
   "execution_count": 5,
   "id": "08db76ca-6757-44a0-a49a-c7412c484008",
   "metadata": {},
   "outputs": [
    {
     "data": {
      "text/plain": [
       "6"
      ]
     },
     "execution_count": 5,
     "metadata": {},
     "output_type": "execute_result"
    }
   ],
   "source": [
    "# appel sans le paramètre optionnel\n",
    "somme([1,2,3])"
   ]
  },
  {
   "cell_type": "code",
   "execution_count": 6,
   "id": "e1818f87-1aa7-4aba-ba9f-ad9307d8137e",
   "metadata": {},
   "outputs": [
    {
     "data": {
      "text/plain": [
       "16"
      ]
     },
     "execution_count": 6,
     "metadata": {},
     "output_type": "execute_result"
    }
   ],
   "source": [
    "# appel avec le paramètre optionnel (par position)\n",
    "somme([1,2,3], 10)"
   ]
  },
  {
   "cell_type": "code",
   "execution_count": 7,
   "id": "e87798ac-a9f6-48a7-b212-d781aeaf4945",
   "metadata": {},
   "outputs": [
    {
     "data": {
      "text/plain": [
       "16"
      ]
     },
     "execution_count": 7,
     "metadata": {},
     "output_type": "execute_result"
    }
   ],
   "source": [
    "# appel avec paramètre optionnel (par keyword)\n",
    "somme([1,2,3], start=10)"
   ]
  },
  {
   "cell_type": "code",
   "execution_count": 8,
   "id": "71db80b4-838c-4ebf-bceb-436a3e484d6c",
   "metadata": {},
   "outputs": [],
   "source": [
    "# SyntaxError: positional argument follows keyword argument\n",
    "# somme(start=10, [1,2,3])"
   ]
  },
  {
   "cell_type": "code",
   "execution_count": 9,
   "id": "3911aa29-27e9-4906-9261-10c9d37a12e7",
   "metadata": {},
   "outputs": [
    {
     "data": {
      "text/plain": [
       "16"
      ]
     },
     "execution_count": 9,
     "metadata": {},
     "output_type": "execute_result"
    }
   ],
   "source": [
    "somme(start=10, iterable=[1,2,3])"
   ]
  },
  {
   "cell_type": "markdown",
   "id": "d3bbbdff-9b9c-4a0a-892d-3a5bd114bb67",
   "metadata": {
    "tags": []
   },
   "source": [
    "### Example lecture CSV avec Pandas\n",
    "Data from Toulouse: https://data.toulouse-metropole.fr/explore/dataset/38-station-meteo-toulouse-parc-jardin-des-plantes/information/"
   ]
  },
  {
   "cell_type": "markdown",
   "id": "30339372-bf8a-46f5-b296-2982d9b410c5",
   "metadata": {},
   "source": [
    "#### doc pandas"
   ]
  },
  {
   "cell_type": "code",
   "execution_count": 10,
   "id": "605b769c-7937-489e-a998-cba08ee4b21b",
   "metadata": {
    "tags": []
   },
   "outputs": [
    {
     "data": {
      "text/plain": [
       "\u001b[1;31mSignature:\u001b[0m\n",
       "\u001b[0mpd\u001b[0m\u001b[1;33m.\u001b[0m\u001b[0mread_csv\u001b[0m\u001b[1;33m(\u001b[0m\u001b[1;33m\n",
       "\u001b[0m    \u001b[0mfilepath_or_buffer\u001b[0m\u001b[1;33m:\u001b[0m \u001b[1;34m'FilePath | ReadCsvBuffer[bytes] | ReadCsvBuffer[str]'\u001b[0m\u001b[1;33m,\u001b[0m\u001b[1;33m\n",
       "\u001b[0m    \u001b[0msep\u001b[0m\u001b[1;33m=\u001b[0m\u001b[1;33m<\u001b[0m\u001b[0mno_default\u001b[0m\u001b[1;33m>\u001b[0m\u001b[1;33m,\u001b[0m\u001b[1;33m\n",
       "\u001b[0m    \u001b[0mdelimiter\u001b[0m\u001b[1;33m=\u001b[0m\u001b[1;32mNone\u001b[0m\u001b[1;33m,\u001b[0m\u001b[1;33m\n",
       "\u001b[0m    \u001b[0mheader\u001b[0m\u001b[1;33m=\u001b[0m\u001b[1;34m'infer'\u001b[0m\u001b[1;33m,\u001b[0m\u001b[1;33m\n",
       "\u001b[0m    \u001b[0mnames\u001b[0m\u001b[1;33m=\u001b[0m\u001b[1;33m<\u001b[0m\u001b[0mno_default\u001b[0m\u001b[1;33m>\u001b[0m\u001b[1;33m,\u001b[0m\u001b[1;33m\n",
       "\u001b[0m    \u001b[0mindex_col\u001b[0m\u001b[1;33m=\u001b[0m\u001b[1;32mNone\u001b[0m\u001b[1;33m,\u001b[0m\u001b[1;33m\n",
       "\u001b[0m    \u001b[0musecols\u001b[0m\u001b[1;33m=\u001b[0m\u001b[1;32mNone\u001b[0m\u001b[1;33m,\u001b[0m\u001b[1;33m\n",
       "\u001b[0m    \u001b[0msqueeze\u001b[0m\u001b[1;33m=\u001b[0m\u001b[1;32mNone\u001b[0m\u001b[1;33m,\u001b[0m\u001b[1;33m\n",
       "\u001b[0m    \u001b[0mprefix\u001b[0m\u001b[1;33m=\u001b[0m\u001b[1;33m<\u001b[0m\u001b[0mno_default\u001b[0m\u001b[1;33m>\u001b[0m\u001b[1;33m,\u001b[0m\u001b[1;33m\n",
       "\u001b[0m    \u001b[0mmangle_dupe_cols\u001b[0m\u001b[1;33m=\u001b[0m\u001b[1;32mTrue\u001b[0m\u001b[1;33m,\u001b[0m\u001b[1;33m\n",
       "\u001b[0m    \u001b[0mdtype\u001b[0m\u001b[1;33m:\u001b[0m \u001b[1;34m'DtypeArg | None'\u001b[0m \u001b[1;33m=\u001b[0m \u001b[1;32mNone\u001b[0m\u001b[1;33m,\u001b[0m\u001b[1;33m\n",
       "\u001b[0m    \u001b[0mengine\u001b[0m\u001b[1;33m:\u001b[0m \u001b[1;34m'CSVEngine | None'\u001b[0m \u001b[1;33m=\u001b[0m \u001b[1;32mNone\u001b[0m\u001b[1;33m,\u001b[0m\u001b[1;33m\n",
       "\u001b[0m    \u001b[0mconverters\u001b[0m\u001b[1;33m=\u001b[0m\u001b[1;32mNone\u001b[0m\u001b[1;33m,\u001b[0m\u001b[1;33m\n",
       "\u001b[0m    \u001b[0mtrue_values\u001b[0m\u001b[1;33m=\u001b[0m\u001b[1;32mNone\u001b[0m\u001b[1;33m,\u001b[0m\u001b[1;33m\n",
       "\u001b[0m    \u001b[0mfalse_values\u001b[0m\u001b[1;33m=\u001b[0m\u001b[1;32mNone\u001b[0m\u001b[1;33m,\u001b[0m\u001b[1;33m\n",
       "\u001b[0m    \u001b[0mskipinitialspace\u001b[0m\u001b[1;33m=\u001b[0m\u001b[1;32mFalse\u001b[0m\u001b[1;33m,\u001b[0m\u001b[1;33m\n",
       "\u001b[0m    \u001b[0mskiprows\u001b[0m\u001b[1;33m=\u001b[0m\u001b[1;32mNone\u001b[0m\u001b[1;33m,\u001b[0m\u001b[1;33m\n",
       "\u001b[0m    \u001b[0mskipfooter\u001b[0m\u001b[1;33m=\u001b[0m\u001b[1;36m0\u001b[0m\u001b[1;33m,\u001b[0m\u001b[1;33m\n",
       "\u001b[0m    \u001b[0mnrows\u001b[0m\u001b[1;33m=\u001b[0m\u001b[1;32mNone\u001b[0m\u001b[1;33m,\u001b[0m\u001b[1;33m\n",
       "\u001b[0m    \u001b[0mna_values\u001b[0m\u001b[1;33m=\u001b[0m\u001b[1;32mNone\u001b[0m\u001b[1;33m,\u001b[0m\u001b[1;33m\n",
       "\u001b[0m    \u001b[0mkeep_default_na\u001b[0m\u001b[1;33m=\u001b[0m\u001b[1;32mTrue\u001b[0m\u001b[1;33m,\u001b[0m\u001b[1;33m\n",
       "\u001b[0m    \u001b[0mna_filter\u001b[0m\u001b[1;33m=\u001b[0m\u001b[1;32mTrue\u001b[0m\u001b[1;33m,\u001b[0m\u001b[1;33m\n",
       "\u001b[0m    \u001b[0mverbose\u001b[0m\u001b[1;33m=\u001b[0m\u001b[1;32mFalse\u001b[0m\u001b[1;33m,\u001b[0m\u001b[1;33m\n",
       "\u001b[0m    \u001b[0mskip_blank_lines\u001b[0m\u001b[1;33m=\u001b[0m\u001b[1;32mTrue\u001b[0m\u001b[1;33m,\u001b[0m\u001b[1;33m\n",
       "\u001b[0m    \u001b[0mparse_dates\u001b[0m\u001b[1;33m=\u001b[0m\u001b[1;32mNone\u001b[0m\u001b[1;33m,\u001b[0m\u001b[1;33m\n",
       "\u001b[0m    \u001b[0minfer_datetime_format\u001b[0m\u001b[1;33m=\u001b[0m\u001b[1;32mFalse\u001b[0m\u001b[1;33m,\u001b[0m\u001b[1;33m\n",
       "\u001b[0m    \u001b[0mkeep_date_col\u001b[0m\u001b[1;33m=\u001b[0m\u001b[1;32mFalse\u001b[0m\u001b[1;33m,\u001b[0m\u001b[1;33m\n",
       "\u001b[0m    \u001b[0mdate_parser\u001b[0m\u001b[1;33m=\u001b[0m\u001b[1;32mNone\u001b[0m\u001b[1;33m,\u001b[0m\u001b[1;33m\n",
       "\u001b[0m    \u001b[0mdayfirst\u001b[0m\u001b[1;33m=\u001b[0m\u001b[1;32mFalse\u001b[0m\u001b[1;33m,\u001b[0m\u001b[1;33m\n",
       "\u001b[0m    \u001b[0mcache_dates\u001b[0m\u001b[1;33m=\u001b[0m\u001b[1;32mTrue\u001b[0m\u001b[1;33m,\u001b[0m\u001b[1;33m\n",
       "\u001b[0m    \u001b[0miterator\u001b[0m\u001b[1;33m=\u001b[0m\u001b[1;32mFalse\u001b[0m\u001b[1;33m,\u001b[0m\u001b[1;33m\n",
       "\u001b[0m    \u001b[0mchunksize\u001b[0m\u001b[1;33m=\u001b[0m\u001b[1;32mNone\u001b[0m\u001b[1;33m,\u001b[0m\u001b[1;33m\n",
       "\u001b[0m    \u001b[0mcompression\u001b[0m\u001b[1;33m:\u001b[0m \u001b[1;34m'CompressionOptions'\u001b[0m \u001b[1;33m=\u001b[0m \u001b[1;34m'infer'\u001b[0m\u001b[1;33m,\u001b[0m\u001b[1;33m\n",
       "\u001b[0m    \u001b[0mthousands\u001b[0m\u001b[1;33m=\u001b[0m\u001b[1;32mNone\u001b[0m\u001b[1;33m,\u001b[0m\u001b[1;33m\n",
       "\u001b[0m    \u001b[0mdecimal\u001b[0m\u001b[1;33m:\u001b[0m \u001b[1;34m'str'\u001b[0m \u001b[1;33m=\u001b[0m \u001b[1;34m'.'\u001b[0m\u001b[1;33m,\u001b[0m\u001b[1;33m\n",
       "\u001b[0m    \u001b[0mlineterminator\u001b[0m\u001b[1;33m=\u001b[0m\u001b[1;32mNone\u001b[0m\u001b[1;33m,\u001b[0m\u001b[1;33m\n",
       "\u001b[0m    \u001b[0mquotechar\u001b[0m\u001b[1;33m=\u001b[0m\u001b[1;34m'\"'\u001b[0m\u001b[1;33m,\u001b[0m\u001b[1;33m\n",
       "\u001b[0m    \u001b[0mquoting\u001b[0m\u001b[1;33m=\u001b[0m\u001b[1;36m0\u001b[0m\u001b[1;33m,\u001b[0m\u001b[1;33m\n",
       "\u001b[0m    \u001b[0mdoublequote\u001b[0m\u001b[1;33m=\u001b[0m\u001b[1;32mTrue\u001b[0m\u001b[1;33m,\u001b[0m\u001b[1;33m\n",
       "\u001b[0m    \u001b[0mescapechar\u001b[0m\u001b[1;33m=\u001b[0m\u001b[1;32mNone\u001b[0m\u001b[1;33m,\u001b[0m\u001b[1;33m\n",
       "\u001b[0m    \u001b[0mcomment\u001b[0m\u001b[1;33m=\u001b[0m\u001b[1;32mNone\u001b[0m\u001b[1;33m,\u001b[0m\u001b[1;33m\n",
       "\u001b[0m    \u001b[0mencoding\u001b[0m\u001b[1;33m=\u001b[0m\u001b[1;32mNone\u001b[0m\u001b[1;33m,\u001b[0m\u001b[1;33m\n",
       "\u001b[0m    \u001b[0mencoding_errors\u001b[0m\u001b[1;33m:\u001b[0m \u001b[1;34m'str | None'\u001b[0m \u001b[1;33m=\u001b[0m \u001b[1;34m'strict'\u001b[0m\u001b[1;33m,\u001b[0m\u001b[1;33m\n",
       "\u001b[0m    \u001b[0mdialect\u001b[0m\u001b[1;33m=\u001b[0m\u001b[1;32mNone\u001b[0m\u001b[1;33m,\u001b[0m\u001b[1;33m\n",
       "\u001b[0m    \u001b[0merror_bad_lines\u001b[0m\u001b[1;33m=\u001b[0m\u001b[1;32mNone\u001b[0m\u001b[1;33m,\u001b[0m\u001b[1;33m\n",
       "\u001b[0m    \u001b[0mwarn_bad_lines\u001b[0m\u001b[1;33m=\u001b[0m\u001b[1;32mNone\u001b[0m\u001b[1;33m,\u001b[0m\u001b[1;33m\n",
       "\u001b[0m    \u001b[0mon_bad_lines\u001b[0m\u001b[1;33m=\u001b[0m\u001b[1;32mNone\u001b[0m\u001b[1;33m,\u001b[0m\u001b[1;33m\n",
       "\u001b[0m    \u001b[0mdelim_whitespace\u001b[0m\u001b[1;33m=\u001b[0m\u001b[1;32mFalse\u001b[0m\u001b[1;33m,\u001b[0m\u001b[1;33m\n",
       "\u001b[0m    \u001b[0mlow_memory\u001b[0m\u001b[1;33m=\u001b[0m\u001b[1;32mTrue\u001b[0m\u001b[1;33m,\u001b[0m\u001b[1;33m\n",
       "\u001b[0m    \u001b[0mmemory_map\u001b[0m\u001b[1;33m=\u001b[0m\u001b[1;32mFalse\u001b[0m\u001b[1;33m,\u001b[0m\u001b[1;33m\n",
       "\u001b[0m    \u001b[0mfloat_precision\u001b[0m\u001b[1;33m=\u001b[0m\u001b[1;32mNone\u001b[0m\u001b[1;33m,\u001b[0m\u001b[1;33m\n",
       "\u001b[0m    \u001b[0mstorage_options\u001b[0m\u001b[1;33m:\u001b[0m \u001b[1;34m'StorageOptions'\u001b[0m \u001b[1;33m=\u001b[0m \u001b[1;32mNone\u001b[0m\u001b[1;33m,\u001b[0m\u001b[1;33m\n",
       "\u001b[0m\u001b[1;33m)\u001b[0m\u001b[1;33m\u001b[0m\u001b[1;33m\u001b[0m\u001b[0m\n",
       "\u001b[1;31mDocstring:\u001b[0m\n",
       "Read a comma-separated values (csv) file into DataFrame.\n",
       "\n",
       "Also supports optionally iterating or breaking of the file\n",
       "into chunks.\n",
       "\n",
       "Additional help can be found in the online docs for\n",
       "`IO Tools <https://pandas.pydata.org/pandas-docs/stable/user_guide/io.html>`_.\n",
       "\n",
       "Parameters\n",
       "----------\n",
       "filepath_or_buffer : str, path object or file-like object\n",
       "    Any valid string path is acceptable. The string could be a URL. Valid\n",
       "    URL schemes include http, ftp, s3, gs, and file. For file URLs, a host is\n",
       "    expected. A local file could be: file://localhost/path/to/table.csv.\n",
       "\n",
       "    If you want to pass in a path object, pandas accepts any ``os.PathLike``.\n",
       "\n",
       "    By file-like object, we refer to objects with a ``read()`` method, such as\n",
       "    a file handle (e.g. via builtin ``open`` function) or ``StringIO``.\n",
       "sep : str, default ','\n",
       "    Delimiter to use. If sep is None, the C engine cannot automatically detect\n",
       "    the separator, but the Python parsing engine can, meaning the latter will\n",
       "    be used and automatically detect the separator by Python's builtin sniffer\n",
       "    tool, ``csv.Sniffer``. In addition, separators longer than 1 character and\n",
       "    different from ``'\\s+'`` will be interpreted as regular expressions and\n",
       "    will also force the use of the Python parsing engine. Note that regex\n",
       "    delimiters are prone to ignoring quoted data. Regex example: ``'\\r\\t'``.\n",
       "delimiter : str, default ``None``\n",
       "    Alias for sep.\n",
       "header : int, list of int, None, default 'infer'\n",
       "    Row number(s) to use as the column names, and the start of the\n",
       "    data.  Default behavior is to infer the column names: if no names\n",
       "    are passed the behavior is identical to ``header=0`` and column\n",
       "    names are inferred from the first line of the file, if column\n",
       "    names are passed explicitly then the behavior is identical to\n",
       "    ``header=None``. Explicitly pass ``header=0`` to be able to\n",
       "    replace existing names. The header can be a list of integers that\n",
       "    specify row locations for a multi-index on the columns\n",
       "    e.g. [0,1,3]. Intervening rows that are not specified will be\n",
       "    skipped (e.g. 2 in this example is skipped). Note that this\n",
       "    parameter ignores commented lines and empty lines if\n",
       "    ``skip_blank_lines=True``, so ``header=0`` denotes the first line of\n",
       "    data rather than the first line of the file.\n",
       "names : array-like, optional\n",
       "    List of column names to use. If the file contains a header row,\n",
       "    then you should explicitly pass ``header=0`` to override the column names.\n",
       "    Duplicates in this list are not allowed.\n",
       "index_col : int, str, sequence of int / str, or False, optional, default ``None``\n",
       "  Column(s) to use as the row labels of the ``DataFrame``, either given as\n",
       "  string name or column index. If a sequence of int / str is given, a\n",
       "  MultiIndex is used.\n",
       "\n",
       "  Note: ``index_col=False`` can be used to force pandas to *not* use the first\n",
       "  column as the index, e.g. when you have a malformed file with delimiters at\n",
       "  the end of each line.\n",
       "usecols : list-like or callable, optional\n",
       "    Return a subset of the columns. If list-like, all elements must either\n",
       "    be positional (i.e. integer indices into the document columns) or strings\n",
       "    that correspond to column names provided either by the user in `names` or\n",
       "    inferred from the document header row(s). If ``names`` are given, the document\n",
       "    header row(s) are not taken into account. For example, a valid list-like\n",
       "    `usecols` parameter would be ``[0, 1, 2]`` or ``['foo', 'bar', 'baz']``.\n",
       "    Element order is ignored, so ``usecols=[0, 1]`` is the same as ``[1, 0]``.\n",
       "    To instantiate a DataFrame from ``data`` with element order preserved use\n",
       "    ``pd.read_csv(data, usecols=['foo', 'bar'])[['foo', 'bar']]`` for columns\n",
       "    in ``['foo', 'bar']`` order or\n",
       "    ``pd.read_csv(data, usecols=['foo', 'bar'])[['bar', 'foo']]``\n",
       "    for ``['bar', 'foo']`` order.\n",
       "\n",
       "    If callable, the callable function will be evaluated against the column\n",
       "    names, returning names where the callable function evaluates to True. An\n",
       "    example of a valid callable argument would be ``lambda x: x.upper() in\n",
       "    ['AAA', 'BBB', 'DDD']``. Using this parameter results in much faster\n",
       "    parsing time and lower memory usage.\n",
       "squeeze : bool, default False\n",
       "    If the parsed data only contains one column then return a Series.\n",
       "\n",
       "    .. deprecated:: 1.4.0\n",
       "        Append ``.squeeze(\"columns\")`` to the call to ``read_csv`` to squeeze\n",
       "        the data.\n",
       "prefix : str, optional\n",
       "    Prefix to add to column numbers when no header, e.g. 'X' for X0, X1, ...\n",
       "\n",
       "    .. deprecated:: 1.4.0\n",
       "       Use a list comprehension on the DataFrame's columns after calling ``read_csv``.\n",
       "mangle_dupe_cols : bool, default True\n",
       "    Duplicate columns will be specified as 'X', 'X.1', ...'X.N', rather than\n",
       "    'X'...'X'. Passing in False will cause data to be overwritten if there\n",
       "    are duplicate names in the columns.\n",
       "dtype : Type name or dict of column -> type, optional\n",
       "    Data type for data or columns. E.g. {'a': np.float64, 'b': np.int32,\n",
       "    'c': 'Int64'}\n",
       "    Use `str` or `object` together with suitable `na_values` settings\n",
       "    to preserve and not interpret dtype.\n",
       "    If converters are specified, they will be applied INSTEAD\n",
       "    of dtype conversion.\n",
       "engine : {'c', 'python', 'pyarrow'}, optional\n",
       "    Parser engine to use. The C and pyarrow engines are faster, while the python engine\n",
       "    is currently more feature-complete. Multithreading is currently only supported by\n",
       "    the pyarrow engine.\n",
       "\n",
       "    .. versionadded:: 1.4.0\n",
       "\n",
       "        The \"pyarrow\" engine was added as an *experimental* engine, and some features\n",
       "        are unsupported, or may not work correctly, with this engine.\n",
       "converters : dict, optional\n",
       "    Dict of functions for converting values in certain columns. Keys can either\n",
       "    be integers or column labels.\n",
       "true_values : list, optional\n",
       "    Values to consider as True.\n",
       "false_values : list, optional\n",
       "    Values to consider as False.\n",
       "skipinitialspace : bool, default False\n",
       "    Skip spaces after delimiter.\n",
       "skiprows : list-like, int or callable, optional\n",
       "    Line numbers to skip (0-indexed) or number of lines to skip (int)\n",
       "    at the start of the file.\n",
       "\n",
       "    If callable, the callable function will be evaluated against the row\n",
       "    indices, returning True if the row should be skipped and False otherwise.\n",
       "    An example of a valid callable argument would be ``lambda x: x in [0, 2]``.\n",
       "skipfooter : int, default 0\n",
       "    Number of lines at bottom of file to skip (Unsupported with engine='c').\n",
       "nrows : int, optional\n",
       "    Number of rows of file to read. Useful for reading pieces of large files.\n",
       "na_values : scalar, str, list-like, or dict, optional\n",
       "    Additional strings to recognize as NA/NaN. If dict passed, specific\n",
       "    per-column NA values.  By default the following values are interpreted as\n",
       "    NaN: '', '#N/A', '#N/A N/A', '#NA', '-1.#IND', '-1.#QNAN', '-NaN', '-nan',\n",
       "    '1.#IND', '1.#QNAN', '<NA>', 'N/A', 'NA', 'NULL', 'NaN', 'n/a',\n",
       "    'nan', 'null'.\n",
       "keep_default_na : bool, default True\n",
       "    Whether or not to include the default NaN values when parsing the data.\n",
       "    Depending on whether `na_values` is passed in, the behavior is as follows:\n",
       "\n",
       "    * If `keep_default_na` is True, and `na_values` are specified, `na_values`\n",
       "      is appended to the default NaN values used for parsing.\n",
       "    * If `keep_default_na` is True, and `na_values` are not specified, only\n",
       "      the default NaN values are used for parsing.\n",
       "    * If `keep_default_na` is False, and `na_values` are specified, only\n",
       "      the NaN values specified `na_values` are used for parsing.\n",
       "    * If `keep_default_na` is False, and `na_values` are not specified, no\n",
       "      strings will be parsed as NaN.\n",
       "\n",
       "    Note that if `na_filter` is passed in as False, the `keep_default_na` and\n",
       "    `na_values` parameters will be ignored.\n",
       "na_filter : bool, default True\n",
       "    Detect missing value markers (empty strings and the value of na_values). In\n",
       "    data without any NAs, passing na_filter=False can improve the performance\n",
       "    of reading a large file.\n",
       "verbose : bool, default False\n",
       "    Indicate number of NA values placed in non-numeric columns.\n",
       "skip_blank_lines : bool, default True\n",
       "    If True, skip over blank lines rather than interpreting as NaN values.\n",
       "parse_dates : bool or list of int or names or list of lists or dict, default False\n",
       "    The behavior is as follows:\n",
       "\n",
       "    * boolean. If True -> try parsing the index.\n",
       "    * list of int or names. e.g. If [1, 2, 3] -> try parsing columns 1, 2, 3\n",
       "      each as a separate date column.\n",
       "    * list of lists. e.g.  If [[1, 3]] -> combine columns 1 and 3 and parse as\n",
       "      a single date column.\n",
       "    * dict, e.g. {'foo' : [1, 3]} -> parse columns 1, 3 as date and call\n",
       "      result 'foo'\n",
       "\n",
       "    If a column or index cannot be represented as an array of datetimes,\n",
       "    say because of an unparsable value or a mixture of timezones, the column\n",
       "    or index will be returned unaltered as an object data type. For\n",
       "    non-standard datetime parsing, use ``pd.to_datetime`` after\n",
       "    ``pd.read_csv``. To parse an index or column with a mixture of timezones,\n",
       "    specify ``date_parser`` to be a partially-applied\n",
       "    :func:`pandas.to_datetime` with ``utc=True``. See\n",
       "    :ref:`io.csv.mixed_timezones` for more.\n",
       "\n",
       "    Note: A fast-path exists for iso8601-formatted dates.\n",
       "infer_datetime_format : bool, default False\n",
       "    If True and `parse_dates` is enabled, pandas will attempt to infer the\n",
       "    format of the datetime strings in the columns, and if it can be inferred,\n",
       "    switch to a faster method of parsing them. In some cases this can increase\n",
       "    the parsing speed by 5-10x.\n",
       "keep_date_col : bool, default False\n",
       "    If True and `parse_dates` specifies combining multiple columns then\n",
       "    keep the original columns.\n",
       "date_parser : function, optional\n",
       "    Function to use for converting a sequence of string columns to an array of\n",
       "    datetime instances. The default uses ``dateutil.parser.parser`` to do the\n",
       "    conversion. Pandas will try to call `date_parser` in three different ways,\n",
       "    advancing to the next if an exception occurs: 1) Pass one or more arrays\n",
       "    (as defined by `parse_dates`) as arguments; 2) concatenate (row-wise) the\n",
       "    string values from the columns defined by `parse_dates` into a single array\n",
       "    and pass that; and 3) call `date_parser` once for each row using one or\n",
       "    more strings (corresponding to the columns defined by `parse_dates`) as\n",
       "    arguments.\n",
       "dayfirst : bool, default False\n",
       "    DD/MM format dates, international and European format.\n",
       "cache_dates : bool, default True\n",
       "    If True, use a cache of unique, converted dates to apply the datetime\n",
       "    conversion. May produce significant speed-up when parsing duplicate\n",
       "    date strings, especially ones with timezone offsets.\n",
       "\n",
       "    .. versionadded:: 0.25.0\n",
       "iterator : bool, default False\n",
       "    Return TextFileReader object for iteration or getting chunks with\n",
       "    ``get_chunk()``.\n",
       "\n",
       "    .. versionchanged:: 1.2\n",
       "\n",
       "       ``TextFileReader`` is a context manager.\n",
       "chunksize : int, optional\n",
       "    Return TextFileReader object for iteration.\n",
       "    See the `IO Tools docs\n",
       "    <https://pandas.pydata.org/pandas-docs/stable/io.html#io-chunking>`_\n",
       "    for more information on ``iterator`` and ``chunksize``.\n",
       "\n",
       "    .. versionchanged:: 1.2\n",
       "\n",
       "       ``TextFileReader`` is a context manager.\n",
       "compression : str or dict, default 'infer'\n",
       "    For on-the-fly decompression of on-disk data. If 'infer' and '%s' is\n",
       "    path-like, then detect compression from the following extensions: '.gz',\n",
       "    '.bz2', '.zip', '.xz', or '.zst' (otherwise no compression). If using\n",
       "    'zip', the ZIP file must contain only one data file to be read in. Set to\n",
       "    ``None`` for no decompression. Can also be a dict with key ``'method'`` set\n",
       "    to one of {``'zip'``, ``'gzip'``, ``'bz2'``, ``'zstd'``} and other\n",
       "    key-value pairs are forwarded to ``zipfile.ZipFile``, ``gzip.GzipFile``,\n",
       "    ``bz2.BZ2File``, or ``zstandard.ZstdDecompressor``, respectively. As an\n",
       "    example, the following could be passed for Zstandard decompression using a\n",
       "    custom compression dictionary:\n",
       "    ``compression={'method': 'zstd', 'dict_data': my_compression_dict}``.\n",
       "\n",
       "    .. versionchanged:: 1.4.0 Zstandard support.\n",
       "\n",
       "thousands : str, optional\n",
       "    Thousands separator.\n",
       "decimal : str, default '.'\n",
       "    Character to recognize as decimal point (e.g. use ',' for European data).\n",
       "lineterminator : str (length 1), optional\n",
       "    Character to break file into lines. Only valid with C parser.\n",
       "quotechar : str (length 1), optional\n",
       "    The character used to denote the start and end of a quoted item. Quoted\n",
       "    items can include the delimiter and it will be ignored.\n",
       "quoting : int or csv.QUOTE_* instance, default 0\n",
       "    Control field quoting behavior per ``csv.QUOTE_*`` constants. Use one of\n",
       "    QUOTE_MINIMAL (0), QUOTE_ALL (1), QUOTE_NONNUMERIC (2) or QUOTE_NONE (3).\n",
       "doublequote : bool, default ``True``\n",
       "   When quotechar is specified and quoting is not ``QUOTE_NONE``, indicate\n",
       "   whether or not to interpret two consecutive quotechar elements INSIDE a\n",
       "   field as a single ``quotechar`` element.\n",
       "escapechar : str (length 1), optional\n",
       "    One-character string used to escape other characters.\n",
       "comment : str, optional\n",
       "    Indicates remainder of line should not be parsed. If found at the beginning\n",
       "    of a line, the line will be ignored altogether. This parameter must be a\n",
       "    single character. Like empty lines (as long as ``skip_blank_lines=True``),\n",
       "    fully commented lines are ignored by the parameter `header` but not by\n",
       "    `skiprows`. For example, if ``comment='#'``, parsing\n",
       "    ``#empty\\na,b,c\\n1,2,3`` with ``header=0`` will result in 'a,b,c' being\n",
       "    treated as the header.\n",
       "encoding : str, optional\n",
       "    Encoding to use for UTF when reading/writing (ex. 'utf-8'). `List of Python\n",
       "    standard encodings\n",
       "    <https://docs.python.org/3/library/codecs.html#standard-encodings>`_ .\n",
       "\n",
       "    .. versionchanged:: 1.2\n",
       "\n",
       "       When ``encoding`` is ``None``, ``errors=\"replace\"`` is passed to\n",
       "       ``open()``. Otherwise, ``errors=\"strict\"`` is passed to ``open()``.\n",
       "       This behavior was previously only the case for ``engine=\"python\"``.\n",
       "\n",
       "    .. versionchanged:: 1.3.0\n",
       "\n",
       "       ``encoding_errors`` is a new argument. ``encoding`` has no longer an\n",
       "       influence on how encoding errors are handled.\n",
       "\n",
       "encoding_errors : str, optional, default \"strict\"\n",
       "    How encoding errors are treated. `List of possible values\n",
       "    <https://docs.python.org/3/library/codecs.html#error-handlers>`_ .\n",
       "\n",
       "    .. versionadded:: 1.3.0\n",
       "\n",
       "dialect : str or csv.Dialect, optional\n",
       "    If provided, this parameter will override values (default or not) for the\n",
       "    following parameters: `delimiter`, `doublequote`, `escapechar`,\n",
       "    `skipinitialspace`, `quotechar`, and `quoting`. If it is necessary to\n",
       "    override values, a ParserWarning will be issued. See csv.Dialect\n",
       "    documentation for more details.\n",
       "error_bad_lines : bool, optional, default ``None``\n",
       "    Lines with too many fields (e.g. a csv line with too many commas) will by\n",
       "    default cause an exception to be raised, and no DataFrame will be returned.\n",
       "    If False, then these \"bad lines\" will be dropped from the DataFrame that is\n",
       "    returned.\n",
       "\n",
       "    .. deprecated:: 1.3.0\n",
       "       The ``on_bad_lines`` parameter should be used instead to specify behavior upon\n",
       "       encountering a bad line instead.\n",
       "warn_bad_lines : bool, optional, default ``None``\n",
       "    If error_bad_lines is False, and warn_bad_lines is True, a warning for each\n",
       "    \"bad line\" will be output.\n",
       "\n",
       "    .. deprecated:: 1.3.0\n",
       "       The ``on_bad_lines`` parameter should be used instead to specify behavior upon\n",
       "       encountering a bad line instead.\n",
       "on_bad_lines : {'error', 'warn', 'skip'} or callable, default 'error'\n",
       "    Specifies what to do upon encountering a bad line (a line with too many fields).\n",
       "    Allowed values are :\n",
       "\n",
       "        - 'error', raise an Exception when a bad line is encountered.\n",
       "        - 'warn', raise a warning when a bad line is encountered and skip that line.\n",
       "        - 'skip', skip bad lines without raising or warning when they are encountered.\n",
       "\n",
       "    .. versionadded:: 1.3.0\n",
       "\n",
       "        - callable, function with signature\n",
       "          ``(bad_line: list[str]) -> list[str] | None`` that will process a single\n",
       "          bad line. ``bad_line`` is a list of strings split by the ``sep``.\n",
       "          If the function returns ``None``, the bad line will be ignored.\n",
       "          If the function returns a new list of strings with more elements than\n",
       "          expected, a ``ParserWarning`` will be emitted while dropping extra elements.\n",
       "          Only supported when ``engine=\"python\"``\n",
       "\n",
       "    .. versionadded:: 1.4.0\n",
       "\n",
       "delim_whitespace : bool, default False\n",
       "    Specifies whether or not whitespace (e.g. ``' '`` or ``'    '``) will be\n",
       "    used as the sep. Equivalent to setting ``sep='\\s+'``. If this option\n",
       "    is set to True, nothing should be passed in for the ``delimiter``\n",
       "    parameter.\n",
       "low_memory : bool, default True\n",
       "    Internally process the file in chunks, resulting in lower memory use\n",
       "    while parsing, but possibly mixed type inference.  To ensure no mixed\n",
       "    types either set False, or specify the type with the `dtype` parameter.\n",
       "    Note that the entire file is read into a single DataFrame regardless,\n",
       "    use the `chunksize` or `iterator` parameter to return the data in chunks.\n",
       "    (Only valid with C parser).\n",
       "memory_map : bool, default False\n",
       "    If a filepath is provided for `filepath_or_buffer`, map the file object\n",
       "    directly onto memory and access the data directly from there. Using this\n",
       "    option can improve performance because there is no longer any I/O overhead.\n",
       "float_precision : str, optional\n",
       "    Specifies which converter the C engine should use for floating-point\n",
       "    values. The options are ``None`` or 'high' for the ordinary converter,\n",
       "    'legacy' for the original lower precision pandas converter, and\n",
       "    'round_trip' for the round-trip converter.\n",
       "\n",
       "    .. versionchanged:: 1.2\n",
       "\n",
       "storage_options : dict, optional\n",
       "    Extra options that make sense for a particular storage connection, e.g.\n",
       "    host, port, username, password, etc. For HTTP(S) URLs the key-value pairs\n",
       "    are forwarded to ``urllib`` as header options. For other URLs (e.g.\n",
       "    starting with \"s3://\", and \"gcs://\") the key-value pairs are forwarded to\n",
       "    ``fsspec``. Please see ``fsspec`` and ``urllib`` for more details.\n",
       "\n",
       "    .. versionadded:: 1.2\n",
       "\n",
       "Returns\n",
       "-------\n",
       "DataFrame or TextParser\n",
       "    A comma-separated values (csv) file is returned as two-dimensional\n",
       "    data structure with labeled axes.\n",
       "\n",
       "See Also\n",
       "--------\n",
       "DataFrame.to_csv : Write DataFrame to a comma-separated values (csv) file.\n",
       "read_csv : Read a comma-separated values (csv) file into DataFrame.\n",
       "read_fwf : Read a table of fixed-width formatted lines into DataFrame.\n",
       "\n",
       "Examples\n",
       "--------\n",
       ">>> pd.read_csv('data.csv')  # doctest: +SKIP\n",
       "\u001b[1;31mFile:\u001b[0m      c:\\users\\matthias\\anaconda3\\lib\\site-packages\\pandas\\io\\parsers\\readers.py\n",
       "\u001b[1;31mType:\u001b[0m      function\n"
      ]
     },
     "metadata": {},
     "output_type": "display_data"
    }
   ],
   "source": [
    "pd.read_csv?"
   ]
  },
  {
   "cell_type": "code",
   "execution_count": 11,
   "id": "66a4cf03-715e-41c9-a659-6f9ee45ce225",
   "metadata": {
    "tags": []
   },
   "outputs": [
    {
     "data": {
      "text/html": [
       "<div>\n",
       "<style scoped>\n",
       "    .dataframe tbody tr th:only-of-type {\n",
       "        vertical-align: middle;\n",
       "    }\n",
       "\n",
       "    .dataframe tbody tr th {\n",
       "        vertical-align: top;\n",
       "    }\n",
       "\n",
       "    .dataframe thead th {\n",
       "        text-align: right;\n",
       "    }\n",
       "</style>\n",
       "<table border=\"1\" class=\"dataframe\">\n",
       "  <thead>\n",
       "    <tr style=\"text-align: right;\">\n",
       "      <th></th>\n",
       "      <th>heure_utc</th>\n",
       "      <th>datetime_fuseau</th>\n",
       "      <th>temperature_en_degre_c</th>\n",
       "      <th>humidite</th>\n",
       "      <th>pression</th>\n",
       "      <th>pluie</th>\n",
       "      <th>pluie_la_plus_intense_durant_1_min</th>\n",
       "      <th>direction_du_vecteur_moyen_de_vent</th>\n",
       "      <th>force_moyenne_du_vecteur_de_vent</th>\n",
       "      <th>direction_du_vecteur_de_vent_max</th>\n",
       "      <th>force_du_vecteur_de_vent_max</th>\n",
       "      <th>direction_du_vecteur_vent_moyen</th>\n",
       "      <th>direction_du_vecteur_de_rafale_de_vent_max</th>\n",
       "      <th>force_moyenne_du_vecteur_vent</th>\n",
       "      <th>force_rafale_max</th>\n",
       "      <th>type_station</th>\n",
       "    </tr>\n",
       "  </thead>\n",
       "  <tbody>\n",
       "    <tr>\n",
       "      <th>0</th>\n",
       "      <td>2022-05-07 01:00:00+02:00</td>\n",
       "      <td>NaN</td>\n",
       "      <td>17.6</td>\n",
       "      <td>49.0</td>\n",
       "      <td>0.0</td>\n",
       "      <td>0.0</td>\n",
       "      <td>0.0</td>\n",
       "      <td>146.0</td>\n",
       "      <td>1.0</td>\n",
       "      <td>13.0</td>\n",
       "      <td>5.0</td>\n",
       "      <td>292.0</td>\n",
       "      <td>292.5</td>\n",
       "      <td>1.0</td>\n",
       "      <td>5.0</td>\n",
       "      <td>0.0</td>\n",
       "    </tr>\n",
       "    <tr>\n",
       "      <th>1</th>\n",
       "      <td>NaN</td>\n",
       "      <td>NaN</td>\n",
       "      <td>NaN</td>\n",
       "      <td>NaN</td>\n",
       "      <td>NaN</td>\n",
       "      <td>NaN</td>\n",
       "      <td>NaN</td>\n",
       "      <td>NaN</td>\n",
       "      <td>NaN</td>\n",
       "      <td>NaN</td>\n",
       "      <td>NaN</td>\n",
       "      <td>NaN</td>\n",
       "      <td>NaN</td>\n",
       "      <td>NaN</td>\n",
       "      <td>NaN</td>\n",
       "      <td>63.0</td>\n",
       "    </tr>\n",
       "    <tr>\n",
       "      <th>2</th>\n",
       "      <td>NaN</td>\n",
       "      <td>NaN</td>\n",
       "      <td>NaN</td>\n",
       "      <td>NaN</td>\n",
       "      <td>NaN</td>\n",
       "      <td>NaN</td>\n",
       "      <td>NaN</td>\n",
       "      <td>NaN</td>\n",
       "      <td>NaN</td>\n",
       "      <td>NaN</td>\n",
       "      <td>NaN</td>\n",
       "      <td>NaN</td>\n",
       "      <td>NaN</td>\n",
       "      <td>NaN</td>\n",
       "      <td>NaN</td>\n",
       "      <td>63.0</td>\n",
       "    </tr>\n",
       "    <tr>\n",
       "      <th>3</th>\n",
       "      <td>2022-05-04 01:00:00+02:00</td>\n",
       "      <td>NaN</td>\n",
       "      <td>13.6</td>\n",
       "      <td>56.0</td>\n",
       "      <td>0.0</td>\n",
       "      <td>0.0</td>\n",
       "      <td>0.0</td>\n",
       "      <td>0.0</td>\n",
       "      <td>0.0</td>\n",
       "      <td>0.0</td>\n",
       "      <td>0.0</td>\n",
       "      <td>0.0</td>\n",
       "      <td>0.0</td>\n",
       "      <td>0.0</td>\n",
       "      <td>0.0</td>\n",
       "      <td>0.0</td>\n",
       "    </tr>\n",
       "    <tr>\n",
       "      <th>4</th>\n",
       "      <td>2021-01-11 01:00:00+01:00</td>\n",
       "      <td>NaN</td>\n",
       "      <td>-1.9</td>\n",
       "      <td>66.0</td>\n",
       "      <td>0.0</td>\n",
       "      <td>0.0</td>\n",
       "      <td>0.0</td>\n",
       "      <td>148.0</td>\n",
       "      <td>5.0</td>\n",
       "      <td>14.0</td>\n",
       "      <td>11.0</td>\n",
       "      <td>296.0</td>\n",
       "      <td>315.0</td>\n",
       "      <td>5.0</td>\n",
       "      <td>11.0</td>\n",
       "      <td>0.0</td>\n",
       "    </tr>\n",
       "    <tr>\n",
       "      <th>...</th>\n",
       "      <td>...</td>\n",
       "      <td>...</td>\n",
       "      <td>...</td>\n",
       "      <td>...</td>\n",
       "      <td>...</td>\n",
       "      <td>...</td>\n",
       "      <td>...</td>\n",
       "      <td>...</td>\n",
       "      <td>...</td>\n",
       "      <td>...</td>\n",
       "      <td>...</td>\n",
       "      <td>...</td>\n",
       "      <td>...</td>\n",
       "      <td>...</td>\n",
       "      <td>...</td>\n",
       "      <td>...</td>\n",
       "    </tr>\n",
       "    <tr>\n",
       "      <th>56282</th>\n",
       "      <td>2023-06-20 04:45:00+02:00</td>\n",
       "      <td>NaN</td>\n",
       "      <td>21.4</td>\n",
       "      <td>60.0</td>\n",
       "      <td>96.0</td>\n",
       "      <td>0.0</td>\n",
       "      <td>0.0</td>\n",
       "      <td>170.0</td>\n",
       "      <td>0.0</td>\n",
       "      <td>11.0</td>\n",
       "      <td>6.0</td>\n",
       "      <td>340.0</td>\n",
       "      <td>247.5</td>\n",
       "      <td>0.0</td>\n",
       "      <td>6.0</td>\n",
       "      <td>0.0</td>\n",
       "    </tr>\n",
       "    <tr>\n",
       "      <th>56283</th>\n",
       "      <td>2023-06-20 05:30:00+02:00</td>\n",
       "      <td>NaN</td>\n",
       "      <td>21.4</td>\n",
       "      <td>61.0</td>\n",
       "      <td>96.0</td>\n",
       "      <td>0.0</td>\n",
       "      <td>0.0</td>\n",
       "      <td>175.0</td>\n",
       "      <td>1.0</td>\n",
       "      <td>11.0</td>\n",
       "      <td>8.0</td>\n",
       "      <td>350.0</td>\n",
       "      <td>247.5</td>\n",
       "      <td>1.0</td>\n",
       "      <td>8.0</td>\n",
       "      <td>0.0</td>\n",
       "    </tr>\n",
       "    <tr>\n",
       "      <th>56284</th>\n",
       "      <td>2023-06-20 08:30:00+02:00</td>\n",
       "      <td>NaN</td>\n",
       "      <td>20.9</td>\n",
       "      <td>55.0</td>\n",
       "      <td>96.0</td>\n",
       "      <td>0.0</td>\n",
       "      <td>0.0</td>\n",
       "      <td>22.0</td>\n",
       "      <td>0.0</td>\n",
       "      <td>2.0</td>\n",
       "      <td>3.0</td>\n",
       "      <td>44.0</td>\n",
       "      <td>45.0</td>\n",
       "      <td>0.0</td>\n",
       "      <td>3.0</td>\n",
       "      <td>0.0</td>\n",
       "    </tr>\n",
       "    <tr>\n",
       "      <th>56285</th>\n",
       "      <td>NaN</td>\n",
       "      <td>2023-06-20 08:45:00+02:00</td>\n",
       "      <td>NaN</td>\n",
       "      <td>NaN</td>\n",
       "      <td>NaN</td>\n",
       "      <td>NaN</td>\n",
       "      <td>NaN</td>\n",
       "      <td>NaN</td>\n",
       "      <td>NaN</td>\n",
       "      <td>NaN</td>\n",
       "      <td>NaN</td>\n",
       "      <td>NaN</td>\n",
       "      <td>NaN</td>\n",
       "      <td>NaN</td>\n",
       "      <td>NaN</td>\n",
       "      <td>9.0</td>\n",
       "    </tr>\n",
       "    <tr>\n",
       "      <th>56286</th>\n",
       "      <td>2023-06-20 08:45:00+02:00</td>\n",
       "      <td>NaN</td>\n",
       "      <td>21.2</td>\n",
       "      <td>55.0</td>\n",
       "      <td>96.0</td>\n",
       "      <td>0.0</td>\n",
       "      <td>0.0</td>\n",
       "      <td>22.0</td>\n",
       "      <td>0.0</td>\n",
       "      <td>2.0</td>\n",
       "      <td>6.0</td>\n",
       "      <td>44.0</td>\n",
       "      <td>45.0</td>\n",
       "      <td>0.0</td>\n",
       "      <td>6.0</td>\n",
       "      <td>0.0</td>\n",
       "    </tr>\n",
       "  </tbody>\n",
       "</table>\n",
       "<p>56287 rows × 16 columns</p>\n",
       "</div>"
      ],
      "text/plain": [
       "                       heure_utc            datetime_fuseau  \\\n",
       "0      2022-05-07 01:00:00+02:00                        NaN   \n",
       "1                            NaN                        NaN   \n",
       "2                            NaN                        NaN   \n",
       "3      2022-05-04 01:00:00+02:00                        NaN   \n",
       "4      2021-01-11 01:00:00+01:00                        NaN   \n",
       "...                          ...                        ...   \n",
       "56282  2023-06-20 04:45:00+02:00                        NaN   \n",
       "56283  2023-06-20 05:30:00+02:00                        NaN   \n",
       "56284  2023-06-20 08:30:00+02:00                        NaN   \n",
       "56285                        NaN  2023-06-20 08:45:00+02:00   \n",
       "56286  2023-06-20 08:45:00+02:00                        NaN   \n",
       "\n",
       "       temperature_en_degre_c  humidite  pression  pluie  \\\n",
       "0                        17.6      49.0       0.0    0.0   \n",
       "1                         NaN       NaN       NaN    NaN   \n",
       "2                         NaN       NaN       NaN    NaN   \n",
       "3                        13.6      56.0       0.0    0.0   \n",
       "4                        -1.9      66.0       0.0    0.0   \n",
       "...                       ...       ...       ...    ...   \n",
       "56282                    21.4      60.0      96.0    0.0   \n",
       "56283                    21.4      61.0      96.0    0.0   \n",
       "56284                    20.9      55.0      96.0    0.0   \n",
       "56285                     NaN       NaN       NaN    NaN   \n",
       "56286                    21.2      55.0      96.0    0.0   \n",
       "\n",
       "       pluie_la_plus_intense_durant_1_min  direction_du_vecteur_moyen_de_vent  \\\n",
       "0                                     0.0                               146.0   \n",
       "1                                     NaN                                 NaN   \n",
       "2                                     NaN                                 NaN   \n",
       "3                                     0.0                                 0.0   \n",
       "4                                     0.0                               148.0   \n",
       "...                                   ...                                 ...   \n",
       "56282                                 0.0                               170.0   \n",
       "56283                                 0.0                               175.0   \n",
       "56284                                 0.0                                22.0   \n",
       "56285                                 NaN                                 NaN   \n",
       "56286                                 0.0                                22.0   \n",
       "\n",
       "       force_moyenne_du_vecteur_de_vent  direction_du_vecteur_de_vent_max  \\\n",
       "0                                   1.0                              13.0   \n",
       "1                                   NaN                               NaN   \n",
       "2                                   NaN                               NaN   \n",
       "3                                   0.0                               0.0   \n",
       "4                                   5.0                              14.0   \n",
       "...                                 ...                               ...   \n",
       "56282                               0.0                              11.0   \n",
       "56283                               1.0                              11.0   \n",
       "56284                               0.0                               2.0   \n",
       "56285                               NaN                               NaN   \n",
       "56286                               0.0                               2.0   \n",
       "\n",
       "       force_du_vecteur_de_vent_max  direction_du_vecteur_vent_moyen  \\\n",
       "0                               5.0                            292.0   \n",
       "1                               NaN                              NaN   \n",
       "2                               NaN                              NaN   \n",
       "3                               0.0                              0.0   \n",
       "4                              11.0                            296.0   \n",
       "...                             ...                              ...   \n",
       "56282                           6.0                            340.0   \n",
       "56283                           8.0                            350.0   \n",
       "56284                           3.0                             44.0   \n",
       "56285                           NaN                              NaN   \n",
       "56286                           6.0                             44.0   \n",
       "\n",
       "       direction_du_vecteur_de_rafale_de_vent_max  \\\n",
       "0                                           292.5   \n",
       "1                                             NaN   \n",
       "2                                             NaN   \n",
       "3                                             0.0   \n",
       "4                                           315.0   \n",
       "...                                           ...   \n",
       "56282                                       247.5   \n",
       "56283                                       247.5   \n",
       "56284                                        45.0   \n",
       "56285                                         NaN   \n",
       "56286                                        45.0   \n",
       "\n",
       "       force_moyenne_du_vecteur_vent  force_rafale_max  type_station  \n",
       "0                                1.0               5.0           0.0  \n",
       "1                                NaN               NaN          63.0  \n",
       "2                                NaN               NaN          63.0  \n",
       "3                                0.0               0.0           0.0  \n",
       "4                                5.0              11.0           0.0  \n",
       "...                              ...               ...           ...  \n",
       "56282                            0.0               6.0           0.0  \n",
       "56283                            1.0               8.0           0.0  \n",
       "56284                            0.0               3.0           0.0  \n",
       "56285                            NaN               NaN           9.0  \n",
       "56286                            0.0               6.0           0.0  \n",
       "\n",
       "[56287 rows x 16 columns]"
      ]
     },
     "execution_count": 11,
     "metadata": {},
     "output_type": "execute_result"
    }
   ],
   "source": [
    "# FutureWarning: In a future version of pandas all arguments of read_csv except for the argument 'filepath_or_buffer' will be keyword-only\n",
    "# dfMeteo = pd.read_csv('38-station-meteo-toulouse-parc-jardin-des-plantes.csv', ';')\n",
    "columns = [\n",
    " 'heure_utc',\n",
    " 'datetime_fuseau',\n",
    " 'temperature_en_degre_c',\n",
    " 'humidite',\n",
    "'pression',\n",
    " 'pluie',\n",
    "'pluie_la_plus_intense_durant_1_min',\n",
    " 'direction_du_vecteur_moyen_de_vent',\n",
    " 'force_moyenne_du_vecteur_de_vent',\n",
    " 'direction_du_vecteur_de_vent_max',\n",
    " 'force_du_vecteur_de_vent_max',\n",
    " 'direction_du_vecteur_vent_moyen',\n",
    " 'direction_du_vecteur_de_rafale_de_vent_max',\n",
    " 'force_moyenne_du_vecteur_vent',\n",
    " 'force_rafale_max',\n",
    " 'type_station',\n",
    " ]\n",
    "dfMeteo = pd.read_csv('38-station-meteo-toulouse-parc-jardin-des-plantes.csv', \n",
    "        delimiter=';', encoding='UTF-8',\n",
    "        usecols=columns,\n",
    "        parse_dates=['heure_utc',  'datetime_fuseau'],\n",
    "        ## columns with mixed contents: force data type\n",
    "        # dtype={'temp_s1_q1': 'str', 'temp_s2q1': 'str', 'temp_s1q2': 'str', 'temp_s2q2': 'str', 'temp_s1q3': 'str', 'temp_s2q3': 'str'}\n",
    ")\n",
    "dfMeteo = dfMeteo[columns]\n",
    "dfMeteo"
   ]
  },
  {
   "cell_type": "code",
   "execution_count": 12,
   "id": "7aa4f20c-e72d-4546-8a6b-d62b5b55c5cf",
   "metadata": {},
   "outputs": [
    {
     "name": "stdout",
     "output_type": "stream",
     "text": [
      "<class 'pandas.core.frame.DataFrame'>\n",
      "RangeIndex: 56287 entries, 0 to 56286\n",
      "Data columns (total 16 columns):\n",
      " #   Column                                      Non-Null Count  Dtype  \n",
      "---  ------                                      --------------  -----  \n",
      " 0   heure_utc                                   44591 non-null  object \n",
      " 1   datetime_fuseau                             9356 non-null   object \n",
      " 2   temperature_en_degre_c                      44591 non-null  float64\n",
      " 3   humidite                                    44591 non-null  float64\n",
      " 4   pression                                    44591 non-null  float64\n",
      " 5   pluie                                       44591 non-null  float64\n",
      " 6   pluie_la_plus_intense_durant_1_min          44591 non-null  float64\n",
      " 7   direction_du_vecteur_moyen_de_vent          44591 non-null  float64\n",
      " 8   force_moyenne_du_vecteur_de_vent            44591 non-null  float64\n",
      " 9   direction_du_vecteur_de_vent_max            44591 non-null  float64\n",
      " 10  force_du_vecteur_de_vent_max                44591 non-null  float64\n",
      " 11  direction_du_vecteur_vent_moyen             44591 non-null  float64\n",
      " 12  direction_du_vecteur_de_rafale_de_vent_max  44591 non-null  float64\n",
      " 13  force_moyenne_du_vecteur_vent               44591 non-null  float64\n",
      " 14  force_rafale_max                            44591 non-null  float64\n",
      " 15  type_station                                56191 non-null  float64\n",
      "dtypes: float64(14), object(2)\n",
      "memory usage: 6.9+ MB\n"
     ]
    }
   ],
   "source": [
    "dfMeteo.info()"
   ]
  },
  {
   "cell_type": "code",
   "execution_count": 13,
   "id": "7ec9344c-7cd6-4f09-bf17-7d4c1c7341a4",
   "metadata": {},
   "outputs": [
    {
     "data": {
      "text/plain": [
       "datetime.datetime(2022, 5, 7, 1, 0, tzinfo=tzoffset(None, 7200))"
      ]
     },
     "execution_count": 13,
     "metadata": {},
     "output_type": "execute_result"
    }
   ],
   "source": [
    "dfMeteo.heure_utc[0]"
   ]
  },
  {
   "cell_type": "code",
   "execution_count": 14,
   "id": "ffd8c3de-c38d-416d-bef9-5d672196df4c",
   "metadata": {
    "tags": []
   },
   "outputs": [],
   "source": [
    "# was usefull to build dict from columns indexes mentionned in the warning\n",
    "# { n: 'str' for n in dfMeteo.columns[[69,75,87,93,105,111]]}"
   ]
  },
  {
   "cell_type": "code",
   "execution_count": 15,
   "id": "7c5147ee-46ab-49e1-9367-7c41237db8f0",
   "metadata": {},
   "outputs": [],
   "source": [
    "dfMeteo.heure_utc = dfMeteo.heure_utc.mask(dfMeteo.heure_utc.isna(), pd.NaT)"
   ]
  },
  {
   "cell_type": "code",
   "execution_count": 16,
   "id": "fd1d4c2e-b399-4dc7-be6e-749cf9460bdc",
   "metadata": {},
   "outputs": [
    {
     "data": {
      "text/plain": [
       "min   2019-06-27 16:15:00+02:00\n",
       "max   2023-06-20 09:00:00+02:00\n",
       "Name: heure_utc, dtype: datetime64[ns, tzoffset(None, 7200)]"
      ]
     },
     "execution_count": 16,
     "metadata": {},
     "output_type": "execute_result"
    }
   ],
   "source": [
    "# some cleaning todo before asking that ....\n",
    "dfMeteo.loc[~dfMeteo.heure_utc.isna(), 'heure_utc'].agg(['min', 'max'])"
   ]
  },
  {
   "cell_type": "markdown",
   "id": "403493fb-8eb6-43c4-8409-e0d26d56cbe3",
   "metadata": {},
   "source": [
    "### Enquête sur le fichier CSV perdu (ou pas)"
   ]
  },
  {
   "cell_type": "code",
   "execution_count": 17,
   "id": "267232e6-ce96-468f-a7cb-ad93dab65218",
   "metadata": {},
   "outputs": [
    {
     "name": "stdout",
     "output_type": "stream",
     "text": [
      "<_io.TextIOWrapper name='38-station-meteo-toulouse-parc-jardin-des-plantes.csv' mode='r' encoding='UTF-8'>\n"
     ]
    }
   ],
   "source": [
    "f = open('38-station-meteo-toulouse-parc-jardin-des-plantes.csv', encoding='UTF-8')\n",
    "print(repr(f))\n",
    "f.close()"
   ]
  },
  {
   "cell_type": "code",
   "execution_count": 18,
   "id": "e00e8177-3d80-4653-9e0b-c00292dab55a",
   "metadata": {},
   "outputs": [
    {
     "data": {
      "text/plain": [
       "WindowsPath('.')"
      ]
     },
     "execution_count": 18,
     "metadata": {},
     "output_type": "execute_result"
    }
   ],
   "source": [
    "current_dir = Path('.')\n",
    "current_dir"
   ]
  },
  {
   "cell_type": "code",
   "execution_count": 19,
   "id": "8f63e77f-a77d-4be8-9b62-978017dcef14",
   "metadata": {},
   "outputs": [
    {
     "data": {
      "text/plain": [
       "WindowsPath('C:/Users/Matthias/Documents/Formations/Python/Stage202306perf/Functions')"
      ]
     },
     "execution_count": 19,
     "metadata": {},
     "output_type": "execute_result"
    }
   ],
   "source": [
    "current_dir.absolute()"
   ]
  },
  {
   "cell_type": "code",
   "execution_count": 20,
   "id": "fb53ddfe-76a2-49de-9d14-c310573e4794",
   "metadata": {},
   "outputs": [
    {
     "data": {
      "text/plain": [
       "[WindowsPath('.ipynb_checkpoints'),\n",
       " WindowsPath('38-station-meteo-toulouse-parc-jardin-des-plantes.csv'),\n",
       " WindowsPath('functions.ipynb')]"
      ]
     },
     "execution_count": 20,
     "metadata": {},
     "output_type": "execute_result"
    }
   ],
   "source": [
    "list(current_dir.iterdir())"
   ]
  },
  {
   "cell_type": "code",
   "execution_count": 21,
   "id": "e61fb3a4-c33a-4e1a-b6fa-55964830dfcd",
   "metadata": {},
   "outputs": [
    {
     "data": {
      "text/plain": [
       "[WindowsPath('38-station-meteo-toulouse-parc-jardin-des-plantes.csv'),\n",
       " WindowsPath('.ipynb_checkpoints/38-station-meteo-toulouse-parc-jardin-des-plantes-checkpoint.csv')]"
      ]
     },
     "execution_count": 21,
     "metadata": {},
     "output_type": "execute_result"
    }
   ],
   "source": [
    "list(current_dir.glob('**/*.csv'))"
   ]
  },
  {
   "cell_type": "markdown",
   "id": "a8f32264-2af0-48b6-92b2-df819947cdcb",
   "metadata": {},
   "source": [
    "### Cas des listes, set, dict"
   ]
  },
  {
   "cell_type": "markdown",
   "id": "e88d881c-dd4e-4ce7-955c-69040b679130",
   "metadata": {},
   "source": [
    "#### Mauvaise pratique"
   ]
  },
  {
   "cell_type": "code",
   "execution_count": 22,
   "id": "d64a2e68-64a7-4d36-801d-39d79e90a467",
   "metadata": {},
   "outputs": [],
   "source": [
    "def letters_from_word(word, previous_set=set()):\n",
    "    new_letters = set(word)\n",
    "    previous_set.update(new_letters)\n",
    "    return previous_set"
   ]
  },
  {
   "cell_type": "code",
   "execution_count": 23,
   "id": "ff8e5c74-7a9b-49e1-9b0e-b77e4148aae6",
   "metadata": {},
   "outputs": [
    {
     "name": "stdout",
     "output_type": "stream",
     "text": [
      "{'t', 'e', 'o', 's', 'u', 'l'}\n",
      "{'t', 'o', 's', 'e', 'p', 'a', 'u', 'l'}\n"
     ]
    }
   ],
   "source": [
    "# sequence 1\n",
    "s1 = letters_from_word(\"toulouse\")\n",
    "print(s1)\n",
    "s2 = letters_from_word(\"pau\", s1)\n",
    "print(s2)"
   ]
  },
  {
   "cell_type": "code",
   "execution_count": 24,
   "id": "10d8a77c-5cb7-4b20-86f9-34ce7ff5824e",
   "metadata": {},
   "outputs": [
    {
     "name": "stdout",
     "output_type": "stream",
     "text": [
      "{'t', 'o', 's', 'e', 'p', 'r', 'i', 'a', 'u', 'l'}\n",
      "{'t', 'o', 's', 'n', 'e', 'p', 'r', 'i', 'y', 'a', 'u', 'l'}\n"
     ]
    }
   ],
   "source": [
    "# sequence 2\n",
    "s1 = letters_from_word(\"paris\")\n",
    "print(s1)\n",
    "s2 = letters_from_word(\"lyon\", s1)\n",
    "print(s2)"
   ]
  },
  {
   "cell_type": "markdown",
   "id": "5673ba93-b0d6-41b2-9703-c4c9d59a8038",
   "metadata": {},
   "source": [
    "#### Good solution"
   ]
  },
  {
   "cell_type": "code",
   "execution_count": 25,
   "id": "d7678ee3-3f9b-4d3a-82d2-ec6b586823a5",
   "metadata": {},
   "outputs": [],
   "source": [
    "def letters_from_word(word, previous_set=None):\n",
    "    if previous_set is None:\n",
    "        previous_set = set()\n",
    "    new_letters = set(word)\n",
    "    previous_set.update(new_letters)\n",
    "    return previous_set"
   ]
  },
  {
   "cell_type": "code",
   "execution_count": 26,
   "id": "30eb0e52-f34f-448d-a079-88fea2225b3a",
   "metadata": {},
   "outputs": [
    {
     "name": "stdout",
     "output_type": "stream",
     "text": [
      "{'t', 'e', 'o', 's', 'u', 'l'}\n",
      "{'t', 'o', 's', 'e', 'p', 'a', 'u', 'l'}\n"
     ]
    }
   ],
   "source": [
    "# sequence 1\n",
    "s1 = letters_from_word(\"toulouse\")\n",
    "print(s1)\n",
    "s2 = letters_from_word(\"pau\", s1)\n",
    "print(s2)"
   ]
  },
  {
   "cell_type": "code",
   "execution_count": 27,
   "id": "e5b57988-8ed2-4324-b96c-2d3d7072083e",
   "metadata": {},
   "outputs": [
    {
     "name": "stdout",
     "output_type": "stream",
     "text": [
      "{'r', 'p', 'i', 'a', 's'}\n",
      "{'o', 's', 'n', 'r', 'p', 'i', 'y', 'a', 'l'}\n"
     ]
    }
   ],
   "source": [
    "# sequence 2\n",
    "s1 = letters_from_word(\"paris\")\n",
    "print(s1)\n",
    "s2 = letters_from_word(\"lyon\", s1)\n",
    "print(s2)"
   ]
  },
  {
   "cell_type": "markdown",
   "id": "4f2ebd73-29f0-4be1-9b53-1276ee79609f",
   "metadata": {},
   "source": [
    "## 2. - Paramètres en nombre variable\n",
    "- by position: *args, \n",
    "- by keyword: **kwargs"
   ]
  },
  {
   "cell_type": "markdown",
   "id": "f70265d2-6130-49d9-9a90-32be2d570e3d",
   "metadata": {},
   "source": [
    "### Exemple matplotlib"
   ]
  },
  {
   "cell_type": "code",
   "execution_count": 28,
   "id": "b00072d1-e627-44e8-a861-709968d58d5b",
   "metadata": {},
   "outputs": [
    {
     "name": "stdout",
     "output_type": "stream",
     "text": [
      "[]\n",
      "[('T',), ('o',), ('u',), ('l',), ('o',), ('u',), ('s',), ('e',)]\n",
      "[('T', 1), ('o', 2), ('u', 3), ('l', 5)]\n"
     ]
    }
   ],
   "source": [
    "# zip(*iterables)\n",
    "print(list(zip()))\n",
    "print(list(zip(\"Toulouse\")))\n",
    "print(list(zip(\"Toulouse\", [1,2,3,5])))"
   ]
  },
  {
   "cell_type": "code",
   "execution_count": 29,
   "id": "f9850c6d-3d54-4838-8a3d-33e89af9650c",
   "metadata": {},
   "outputs": [],
   "source": [
    "x = np.linspace(0, 2*np.pi, 10000)\n",
    "y1 = np.sin(x)\n",
    "y2 = np.cos(x)"
   ]
  },
  {
   "cell_type": "code",
   "execution_count": 30,
   "id": "9964ac4d-84f7-40a5-af0c-eb1f994a3c8c",
   "metadata": {},
   "outputs": [
    {
     "data": {
      "text/plain": [
       "[<matplotlib.lines.Line2D at 0x1ea52f2be50>]"
      ]
     },
     "execution_count": 30,
     "metadata": {},
     "output_type": "execute_result"
    },
    {
     "data": {
      "image/png": "[encoded data removed]",
      "text/plain": [
       "<Figure size 432x288 with 1 Axes>"
      ]
     },
     "metadata": {
      "needs_background": "light"
     },
     "output_type": "display_data"
    }
   ],
   "source": [
    "# Signature: plt.plot(*args, scalex=True, scaley=True, data=None, **kwargs)\n",
    "plt.plot(y1)"
   ]
  },
  {
   "cell_type": "code",
   "execution_count": 31,
   "id": "893b9ffe-814b-4ea3-8ffd-a1a6a66e7cad",
   "metadata": {},
   "outputs": [
    {
     "data": {
      "text/plain": [
       "[<matplotlib.lines.Line2D at 0x1ea527da1c0>]"
      ]
     },
     "execution_count": 31,
     "metadata": {},
     "output_type": "execute_result"
    },
    {
     "data": {
      "image/png": "[encoded data removed]",
      "text/plain": [
       "<Figure size 432x288 with 1 Axes>"
      ]
     },
     "metadata": {
      "needs_background": "light"
     },
     "output_type": "display_data"
    }
   ],
   "source": [
    "# y1 is interpreted as x coordinates\n",
    "plt.plot(y1,y2)"
   ]
  },
  {
   "cell_type": "code",
   "execution_count": 32,
   "id": "fff9db4f-a8df-42b8-aa0d-8adc8c7b59bb",
   "metadata": {},
   "outputs": [
    {
     "data": {
      "text/plain": [
       "[<matplotlib.lines.Line2D at 0x1ea52864ee0>,\n",
       " <matplotlib.lines.Line2D at 0x1ea52864f40>]"
      ]
     },
     "execution_count": 32,
     "metadata": {},
     "output_type": "execute_result"
    },
    {
     "data": {
      "image/png": "[encoded data removed]",
      "text/plain": [
       "<Figure size 432x288 with 1 Axes>"
      ]
     },
     "metadata": {
      "needs_background": "light"
     },
     "output_type": "display_data"
    }
   ],
   "source": [
    "plt.plot(x, y1, x, y2)"
   ]
  },
  {
   "cell_type": "code",
   "execution_count": 33,
   "id": "94cf3541-b768-488e-9bdc-5ecd20aad954",
   "metadata": {},
   "outputs": [
    {
     "data": {
      "text/plain": [
       "[<matplotlib.lines.Line2D at 0x1ea52903970>,\n",
       " <matplotlib.lines.Line2D at 0x1ea529138e0>]"
      ]
     },
     "execution_count": 33,
     "metadata": {},
     "output_type": "execute_result"
    },
    {
     "data": {
      "image/png": "[encoded data removed]",
      "text/plain": [
       "<Figure size 432x288 with 1 Axes>"
      ]
     },
     "metadata": {
      "needs_background": "light"
     },
     "output_type": "display_data"
    }
   ],
   "source": [
    "plt.plot(x, y1, 'r+', x, y2, 'g*')"
   ]
  },
  {
   "cell_type": "code",
   "execution_count": 34,
   "id": "c67c383c-be41-4c13-a577-57214ddb44db",
   "metadata": {},
   "outputs": [
    {
     "name": "stderr",
     "output_type": "stream",
     "text": [
      "C:\\Users\\Matthias\\AppData\\Local\\Temp\\ipykernel_19440\\1954639241.py:1: UserWarning: color is redundantly defined by the 'color' keyword argument and the fmt string \"r\" (-> color=(1.0, 0.0, 0.0, 1)). The keyword argument will take precedence.\n",
      "  plt.plot(x, y1, 'r', x, y2, 'g', color='blue', linestyle='dashed')\n",
      "C:\\Users\\Matthias\\AppData\\Local\\Temp\\ipykernel_19440\\1954639241.py:1: UserWarning: color is redundantly defined by the 'color' keyword argument and the fmt string \"g\" (-> color=(0.0, 0.5, 0.0, 1)). The keyword argument will take precedence.\n",
      "  plt.plot(x, y1, 'r', x, y2, 'g', color='blue', linestyle='dashed')\n"
     ]
    },
    {
     "data": {
      "text/plain": [
       "[<matplotlib.lines.Line2D at 0x1ea529876d0>,\n",
       " <matplotlib.lines.Line2D at 0x1ea529877f0>]"
      ]
     },
     "execution_count": 34,
     "metadata": {},
     "output_type": "execute_result"
    },
    {
     "data": {
      "image/png": "[encoded data removed]",
      "text/plain": [
       "<Figure size 432x288 with 1 Axes>"
      ]
     },
     "metadata": {
      "needs_background": "light"
     },
     "output_type": "display_data"
    }
   ],
   "source": [
    "plt.plot(x, y1, 'r', x, y2, 'g', color='blue', linestyle='dashed')"
   ]
  },
  {
   "cell_type": "code",
   "execution_count": 35,
   "id": "26643d38-d24f-43d5-8bf8-0923edcf6cbe",
   "metadata": {},
   "outputs": [
    {
     "data": {
      "text/plain": [
       "[<matplotlib.lines.Line2D at 0x1ea52a2b340>,\n",
       " <matplotlib.lines.Line2D at 0x1ea52a2b460>]"
      ]
     },
     "execution_count": 35,
     "metadata": {},
     "output_type": "execute_result"
    },
    {
     "data": {
      "image/png": "[encoded data removed]",
      "text/plain": [
       "<Figure size 432x288 with 1 Axes>"
      ]
     },
     "metadata": {
      "needs_background": "light"
     },
     "output_type": "display_data"
    }
   ],
   "source": [
    "plt.plot(x, y1, 'r', x, y2, 'g', linestyle='dashed')"
   ]
  },
  {
   "cell_type": "markdown",
   "id": "07dd93e6-f424-440e-bde6-dd1beb67af8e",
   "metadata": {},
   "source": [
    "### Exemple function definition\n",
    "**NB**: code using pattern matching (python 3.10+)\n",
    "https://peps.python.org/pep-0636/"
   ]
  },
  {
   "cell_type": "code",
   "execution_count": 1,
   "id": "7b900309-9ade-4b9d-b1a7-046458873554",
   "metadata": {},
   "outputs": [],
   "source": [
    "def letters_from_one_word_to_dict(word):\n",
    "    res = {}\n",
    "    for l in word:\n",
    "        if l in res:\n",
    "            res[l] += 1\n",
    "        else:\n",
    "            res[l] =1\n",
    "    return res\n",
    "            \n",
    "def update_dict_letters(letter_dict1, letter_dict2):\n",
    "    # update letter counts of letter_dict1 with letter_dict2\n",
    "    for l,c in letter_dict2.items():\n",
    "        if l in letter_dict1:\n",
    "            letter_dict1[l] += c\n",
    "        else:\n",
    "            letter_dict1[l] = c\n",
    "    return letter_dict1\n",
    "\n",
    "def letters_from_word(a, *word, b, previous_res=None, **kwargs):\n",
    "    \"\"\"returns letters form a series of word as a set by default \n",
    "    or a dict with the number of letters\n",
    "    \n",
    "    Parameters:\n",
    "    -----------\n",
    "    - a: dummy positional argument\n",
    "    - word: word1, word2, ... wordn: words to decompose\n",
    "    - b: dummy keyword argument\n",
    "    - previous_res: previous set or dict to accumulate with this execution\n",
    "        default value: empt set or empty dict\n",
    "    - kwargs: other options (cf Other Options chapter)\n",
    "    \n",
    "    Other Options:\n",
    "    --------------\n",
    "    - case: deal with letters with case sensitive or insensitive (default)\n",
    "        default value: False\n",
    "    - count: count letters (result is a dict) or not (result is a set)\n",
    "        default value: False\n",
    "    \"\"\"\n",
    "    # Debug args\n",
    "    print(\"Arg a\", a, type(a), sep=' : ')\n",
    "    print(\"Arg word\", word, type(word), sep=' : ')\n",
    "    print(\"Arg b\", b, type(b), sep=' : ')\n",
    "    print(\"Arg previous_res\", previous_res, type(previous_res), sep=' : ')\n",
    "    print(\"Arg kwargs\", kwargs, type(kwargs), sep=' : ')\n",
    "    # Impl function (ignore a and b)\n",
    "    # options\n",
    "    case_sensitive = False\n",
    "    count = False\n",
    "    for option_name, option_value in kwargs.items():\n",
    "        match option_name:\n",
    "            case \"case\": \n",
    "                case_sensitive = option_value\n",
    "            case \"count\":\n",
    "                count = option_value\n",
    "            case _:\n",
    "                raise NameError(f\"Unknown option: {option_name}\")\n",
    "    print(f\"Options decrypted: case={case_sensitive}, count={count}\")\n",
    "    if previous_res is None:\n",
    "        previous_res = {} if count else set()\n",
    "    for w in word:\n",
    "        if not case_sensitive:\n",
    "            w = w.lower()\n",
    "        if count:\n",
    "            new_letters = letters_from_one_word_to_dict(w)\n",
    "            update_dict_letters(previous_res, new_letters)\n",
    "        else:\n",
    "            new_letters = set(w)\n",
    "            previous_res.update(new_letters)\n",
    "    return previous_res"
   ]
  },
  {
   "cell_type": "code",
   "execution_count": 2,
   "id": "00670a85-f585-45c3-b606-db10b81db8e3",
   "metadata": {},
   "outputs": [
    {
     "name": "stdout",
     "output_type": "stream",
     "text": [
      "Arg a : 1 : <class 'int'>\n",
      "Arg word : () : <class 'tuple'>\n",
      "Arg b : 2 : <class 'int'>\n",
      "Arg previous_res : None : <class 'NoneType'>\n",
      "Arg kwargs : {} : <class 'dict'>\n",
      "Options decrypted: case=False, count=False\n"
     ]
    },
    {
     "data": {
      "text/plain": [
       "set()"
      ]
     },
     "execution_count": 2,
     "metadata": {},
     "output_type": "execute_result"
    }
   ],
   "source": [
    "# letters_from_word() # missing 1 required positional argument: 'a'\n",
    "# letters_from_word(1) # missing 1 required keyword-only argument: 'b'\n",
    "letters_from_word(1, b=2)"
   ]
  },
  {
   "cell_type": "code",
   "execution_count": 3,
   "id": "4f514932-eeba-4e2a-9d3c-cb99d14624be",
   "metadata": {},
   "outputs": [
    {
     "name": "stdout",
     "output_type": "stream",
     "text": [
      "Arg a : 1 : <class 'int'>\n",
      "Arg word : ('Toulouse', 'Lyon', 'Paris') : <class 'tuple'>\n",
      "Arg b : 2 : <class 'int'>\n",
      "Arg previous_res : None : <class 'NoneType'>\n",
      "Arg kwargs : {'case': False, 'count': False} : <class 'dict'>\n",
      "Options decrypted: case=False, count=False\n"
     ]
    },
    {
     "data": {
      "text/plain": [
       "{'a', 'e', 'i', 'l', 'n', 'o', 'p', 'r', 's', 't', 'u', 'y'}"
      ]
     },
     "execution_count": 3,
     "metadata": {},
     "output_type": "execute_result"
    }
   ],
   "source": [
    "letters_from_word(1, \"Toulouse\", \"Lyon\", \"Paris\", b=2, case=False, count=False)"
   ]
  },
  {
   "cell_type": "code",
   "execution_count": 4,
   "id": "15defb0b-92b9-4eba-80fe-47eb1a22f711",
   "metadata": {},
   "outputs": [
    {
     "name": "stdout",
     "output_type": "stream",
     "text": [
      "Arg a : 1 : <class 'int'>\n",
      "Arg word : ('Toulouse', 'Lyon', 'Paris') : <class 'tuple'>\n",
      "Arg b : 2 : <class 'int'>\n",
      "Arg previous_res : None : <class 'NoneType'>\n",
      "Arg kwargs : {'case': True, 'count': False} : <class 'dict'>\n",
      "Options decrypted: case=True, count=False\n"
     ]
    },
    {
     "data": {
      "text/plain": [
       "{'L', 'P', 'T', 'a', 'e', 'i', 'l', 'n', 'o', 'r', 's', 'u', 'y'}"
      ]
     },
     "execution_count": 4,
     "metadata": {},
     "output_type": "execute_result"
    }
   ],
   "source": [
    "letters_from_word(1, \"Toulouse\", \"Lyon\", \"Paris\", b=2, case=True, count=False)"
   ]
  },
  {
   "cell_type": "code",
   "execution_count": 5,
   "id": "8cb7c775-5a33-4a8d-b037-c2954617bfb4",
   "metadata": {},
   "outputs": [
    {
     "name": "stdout",
     "output_type": "stream",
     "text": [
      "Arg a : 1 : <class 'int'>\n",
      "Arg word : ('Toulouse', 'Lyon', 'Paris') : <class 'tuple'>\n",
      "Arg b : 2 : <class 'int'>\n",
      "Arg previous_res : None : <class 'NoneType'>\n",
      "Arg kwargs : {'case': False, 'count': True} : <class 'dict'>\n",
      "Options decrypted: case=False, count=True\n"
     ]
    },
    {
     "data": {
      "text/plain": [
       "{'t': 1,\n",
       " 'o': 3,\n",
       " 'u': 2,\n",
       " 'l': 2,\n",
       " 's': 2,\n",
       " 'e': 1,\n",
       " 'y': 1,\n",
       " 'n': 1,\n",
       " 'p': 1,\n",
       " 'a': 1,\n",
       " 'r': 1,\n",
       " 'i': 1}"
      ]
     },
     "execution_count": 5,
     "metadata": {},
     "output_type": "execute_result"
    }
   ],
   "source": [
    "letters_from_word(1, \"Toulouse\", \"Lyon\", \"Paris\", b=2, case=False, count=True)"
   ]
  },
  {
   "cell_type": "code",
   "execution_count": 6,
   "id": "2f92d3c3-ca8e-4f22-8802-f7f164e1368e",
   "metadata": {},
   "outputs": [
    {
     "name": "stdout",
     "output_type": "stream",
     "text": [
      "Arg a : 1 : <class 'int'>\n",
      "Arg word : ('Toulouse', 'Lyon', 'Paris') : <class 'tuple'>\n",
      "Arg b : 2 : <class 'int'>\n",
      "Arg previous_res : None : <class 'NoneType'>\n",
      "Arg kwargs : {'case': True, 'count': True} : <class 'dict'>\n",
      "Options decrypted: case=True, count=True\n"
     ]
    },
    {
     "data": {
      "text/plain": [
       "{'T': 1,\n",
       " 'o': 3,\n",
       " 'u': 2,\n",
       " 'l': 1,\n",
       " 's': 2,\n",
       " 'e': 1,\n",
       " 'L': 1,\n",
       " 'y': 1,\n",
       " 'n': 1,\n",
       " 'P': 1,\n",
       " 'a': 1,\n",
       " 'r': 1,\n",
       " 'i': 1}"
      ]
     },
     "execution_count": 6,
     "metadata": {},
     "output_type": "execute_result"
    }
   ],
   "source": [
    "letters_from_word(1, \"Toulouse\", \"Lyon\", \"Paris\", b=2, case=True, count=True)"
   ]
  },
  {
   "cell_type": "code",
   "execution_count": 7,
   "id": "679a1bed-74ff-44d7-ad6e-ee9ef788799e",
   "metadata": {},
   "outputs": [
    {
     "name": "stdout",
     "output_type": "stream",
     "text": [
      "Arg a : 1 : <class 'int'>\n",
      "Arg word : ('Toulouse', 'Lyon', 'Paris') : <class 'tuple'>\n",
      "Arg b : 2 : <class 'int'>\n",
      "Arg previous_res : None : <class 'NoneType'>\n",
      "Arg kwargs : {'case': True, 'count': False, 'toto': 'Tutu'} : <class 'dict'>\n",
      "Caugth exception NameError  with message: Unknown option: toto\n"
     ]
    }
   ],
   "source": [
    "try:\n",
    "    letters_from_word(1, \"Toulouse\", \"Lyon\", \"Paris\", b=2, case=True, count=False, toto=\"Tutu\")\n",
    "except NameError as e:\n",
    "    print(\"Caugth exception NameError  with message:\", e)"
   ]
  }
 ],
 "metadata": {
  "kernelspec": {
   "display_name": "k311",
   "language": "python",
   "name": "k311"
  },
  "language_info": {
   "codemirror_mode": {
    "name": "ipython",
    "version": 3
   },
   "file_extension": ".py",
   "mimetype": "text/x-python",
   "name": "python",
   "nbconvert_exporter": "python",
   "pygments_lexer": "ipython3",
   "version": "3.11.0"
  }
 },
 "nbformat": 4,
 "nbformat_minor": 5
}
