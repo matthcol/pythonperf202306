{
 "cells": [
  {
   "cell_type": "markdown",
   "id": "c2ff35b4-2368-4b4e-ba57-7a0fbd6c6dbd",
   "metadata": {},
   "source": [
    "# Tri"
   ]
  },
  {
   "cell_type": "markdown",
   "id": "9bbe762b-5661-4a32-ac54-a3eba9376bf9",
   "metadata": {},
   "source": [
    "## 1. list, operator <, tri custom"
   ]
  },
  {
   "cell_type": "code",
   "execution_count": 37,
   "id": "c4e36545-b811-43df-b97d-879c5eacaca9",
   "metadata": {},
   "outputs": [],
   "source": [
    "from geometry import Point\n",
    "from operator import attrgetter\n",
    "from functools import cmp_to_key\n",
    "import locale"
   ]
  },
  {
   "cell_type": "code",
   "execution_count": 9,
   "id": "af561cb5-1061-4e39-b11c-be85a4a6de6c",
   "metadata": {},
   "outputs": [],
   "source": [
    "temperatures = [ 1.2, 12.5, 15, 2.3, 33.5, 17.3, 5.3 ]\n",
    "cities = [ \"Toulouse\", \"Lyon\", \"Pau\", \"Paris\"]\n",
    "points = [\n",
    "    Point.of(3, 1, \"A\"),\n",
    "    Point.of(2, 2, \"B\"),\n",
    "    Point.of(5, 3, \"C\"),\n",
    "    Point.of(2, 4, \"D\"),\n",
    "    Point.of(2, 4, \"E\"),\n",
    "]"
   ]
  },
  {
   "cell_type": "code",
   "execution_count": 10,
   "id": "9dd79326-64f7-4c3e-a1f5-4ab72f1ffc8e",
   "metadata": {},
   "outputs": [
    {
     "name": "stdout",
     "output_type": "stream",
     "text": [
      "[1.2, 12.5, 15, 2.3, 33.5, 17.3, 5.3]\n",
      "[1.2, 2.3, 5.3, 12.5, 15, 17.3, 33.5]\n"
     ]
    }
   ],
   "source": [
    "# sorted(iterable) => new list\n",
    "temperatures2 = sorted(temperatures)\n",
    "print(temperatures)\n",
    "print(temperatures2)"
   ]
  },
  {
   "cell_type": "code",
   "execution_count": 11,
   "id": "12023918-6f2e-494a-9527-6e6ff9d74ce0",
   "metadata": {},
   "outputs": [
    {
     "name": "stdout",
     "output_type": "stream",
     "text": [
      "['Lyon', 'Paris', 'Pau', 'Toulouse']\n"
     ]
    }
   ],
   "source": [
    "# list.sort: inplace\n",
    "assert cities.sort() is None\n",
    "print(cities)"
   ]
  },
  {
   "cell_type": "code",
   "execution_count": 12,
   "id": "ee23b315-fdea-4f72-887a-02ac3a1bd097",
   "metadata": {},
   "outputs": [
    {
     "data": {
      "text/plain": [
       "[Point<name=B,x=2,y=2>,\n",
       " Point<name=D,x=2,y=4>,\n",
       " Point<name=E,x=2,y=4>,\n",
       " Point<name=A,x=3,y=1>,\n",
       " Point<name=C,x=5,y=3>]"
      ]
     },
     "execution_count": 12,
     "metadata": {},
     "output_type": "execute_result"
    }
   ],
   "source": [
    "# ok car < défini sur le type Point\n",
    "sorted(points)"
   ]
  },
  {
   "cell_type": "code",
   "execution_count": 14,
   "id": "3b4a9076-e04e-4fce-934c-a61ee9d4282e",
   "metadata": {},
   "outputs": [],
   "source": [
    "# # TypeError: '<' not supported between instances of 'str' and 'float'\n",
    "# data = [ 12, 5.5, \"Inf\", Point.of(3,4)]\n",
    "# sorted(data)"
   ]
  },
  {
   "cell_type": "code",
   "execution_count": 16,
   "id": "cd9354ca-d3d3-467f-bd8e-11508c7d72bf",
   "metadata": {},
   "outputs": [
    {
     "data": {
      "text/plain": [
       "[33.5, 17.3, 15, 12.5, 5.3, 2.3, 1.2]"
      ]
     },
     "execution_count": 16,
     "metadata": {},
     "output_type": "execute_result"
    }
   ],
   "source": [
    "sorted(temperatures, reverse=True)"
   ]
  },
  {
   "cell_type": "code",
   "execution_count": 17,
   "id": "88c070b7-412b-4d56-b2dc-9a902fb4af54",
   "metadata": {},
   "outputs": [
    {
     "data": {
      "text/plain": [
       "['Toulouse', 'Pau', 'Paris', 'Lyon']"
      ]
     },
     "execution_count": 17,
     "metadata": {},
     "output_type": "execute_result"
    }
   ],
   "source": [
    "sorted(cities, reverse=True)"
   ]
  },
  {
   "cell_type": "code",
   "execution_count": 18,
   "id": "ce6cc0da-2727-4e42-b97f-9ab99abc64c3",
   "metadata": {},
   "outputs": [
    {
     "data": {
      "text/plain": [
       "[Point<name=A,x=3,y=1>,\n",
       " Point<name=B,x=2,y=2>,\n",
       " Point<name=C,x=5,y=3>,\n",
       " Point<name=D,x=2,y=4>,\n",
       " Point<name=E,x=2,y=4>]"
      ]
     },
     "execution_count": 18,
     "metadata": {},
     "output_type": "execute_result"
    }
   ],
   "source": [
    "sorted(points, key=lambda p: p.name)"
   ]
  },
  {
   "cell_type": "code",
   "execution_count": 19,
   "id": "15b63d27-245f-4052-bd34-48eeb6684b3d",
   "metadata": {},
   "outputs": [
    {
     "data": {
      "text/plain": [
       "[Point<name=A,x=3,y=1>,\n",
       " Point<name=B,x=2,y=2>,\n",
       " Point<name=C,x=5,y=3>,\n",
       " Point<name=D,x=2,y=4>,\n",
       " Point<name=E,x=2,y=4>]"
      ]
     },
     "execution_count": 19,
     "metadata": {},
     "output_type": "execute_result"
    }
   ],
   "source": [
    "sorted(points, key=lambda p: (p.y, p.x, p.name))"
   ]
  },
  {
   "cell_type": "markdown",
   "id": "74f6b7c3-2d0f-457b-965a-a54fd9050392",
   "metadata": {},
   "source": [
    "**nb** lambda peut être remplacé par operator.attrgetter ou operator.itemgetter"
   ]
  },
  {
   "cell_type": "code",
   "execution_count": 21,
   "id": "c289fb78-1758-459a-ac01-14cf562f32d8",
   "metadata": {},
   "outputs": [
    {
     "data": {
      "text/plain": [
       "[Point<name=A,x=3,y=1>,\n",
       " Point<name=B,x=2,y=2>,\n",
       " Point<name=C,x=5,y=3>,\n",
       " Point<name=D,x=2,y=4>,\n",
       " Point<name=E,x=2,y=4>]"
      ]
     },
     "execution_count": 21,
     "metadata": {},
     "output_type": "execute_result"
    }
   ],
   "source": [
    "sorted(points, key=attrgetter('name'))"
   ]
  },
  {
   "cell_type": "code",
   "execution_count": 22,
   "id": "579d03ea-ce7b-4af5-83c1-9e8bffce27b4",
   "metadata": {},
   "outputs": [
    {
     "data": {
      "text/plain": [
       "[Point<name=A,x=3,y=1>,\n",
       " Point<name=B,x=2,y=2>,\n",
       " Point<name=C,x=5,y=3>,\n",
       " Point<name=D,x=2,y=4>,\n",
       " Point<name=E,x=2,y=4>]"
      ]
     },
     "execution_count": 22,
     "metadata": {},
     "output_type": "execute_result"
    }
   ],
   "source": [
    "sorted(points, key=attrgetter('y','x','name'))"
   ]
  },
  {
   "cell_type": "code",
   "execution_count": 25,
   "id": "f8e91878-5aba-436b-a361-d3d82ab2b8f2",
   "metadata": {},
   "outputs": [
    {
     "data": {
      "text/plain": [
       "['Lyon', 'milan', 'Paris', 'Pau', 'tOuLoN', 'Toulouse']"
      ]
     },
     "execution_count": 25,
     "metadata": {},
     "output_type": "execute_result"
    }
   ],
   "source": [
    "cities = [ \"Toulouse\", \"Lyon\", \"Pau\", \"Paris\"]\n",
    "cities.extend([\"milan\", \"tOuLoN\"])\n",
    "# sort case insensitive\n",
    "sorted(cities, key=str.casefold) # .lower, .upper"
   ]
  },
  {
   "cell_type": "code",
   "execution_count": 26,
   "id": "8c215b34-c92c-4209-97fe-1bb429c8627f",
   "metadata": {},
   "outputs": [
    {
     "data": {
      "text/plain": [
       "['code',\n",
       " 'corps',\n",
       " 'cœur',\n",
       " 'fabuleux',\n",
       " 'face',\n",
       " 'fade',\n",
       " 'façade',\n",
       " 'étage',\n",
       " 'étuve',\n",
       " 'été']"
      ]
     },
     "execution_count": 26,
     "metadata": {},
     "output_type": "execute_result"
    }
   ],
   "source": [
    "words_fr = [\"été\", \"étuve\", \"étage\", \"cœur\", \"corps\", \"code\", \"façade\", \"face\", \"fade\", \"fabuleux\"]\n",
    "sorted(words_fr)"
   ]
  },
  {
   "cell_type": "code",
   "execution_count": 28,
   "id": "42dbf725-1ff9-4572-9263-026f4c555348",
   "metadata": {},
   "outputs": [
    {
     "data": {
      "text/plain": [
       "('fr_FR', 'cp1252')"
      ]
     },
     "execution_count": 28,
     "metadata": {},
     "output_type": "execute_result"
    }
   ],
   "source": [
    "locale.getlocale()"
   ]
  },
  {
   "cell_type": "code",
   "execution_count": 31,
   "id": "4a7c3f50-170e-4417-9cbe-7da7da65ff94",
   "metadata": {},
   "outputs": [
    {
     "data": {
      "text/plain": [
       "'fr_FR.UTF-8'"
      ]
     },
     "execution_count": 31,
     "metadata": {},
     "output_type": "execute_result"
    }
   ],
   "source": [
    "locale.setlocale(locale.LC_ALL, 'fr_FR.UTF-8')"
   ]
  },
  {
   "cell_type": "code",
   "execution_count": 36,
   "id": "d1613e37-9512-408e-97d4-79f0cc0d6de0",
   "metadata": {},
   "outputs": [
    {
     "data": {
      "text/plain": [
       "-1"
      ]
     },
     "execution_count": 36,
     "metadata": {},
     "output_type": "execute_result"
    }
   ],
   "source": [
    "# fonction de comparaison à l'ancienne\n",
    "locale.strcoll(\"été\", \"étuve\")"
   ]
  },
  {
   "cell_type": "code",
   "execution_count": 38,
   "id": "50be0940-53e3-42d6-9bdf-945165c76470",
   "metadata": {},
   "outputs": [
    {
     "data": {
      "text/plain": [
       "['code',\n",
       " 'cœur',\n",
       " 'corps',\n",
       " 'étage',\n",
       " 'été',\n",
       " 'étuve',\n",
       " 'fabuleux',\n",
       " 'façade',\n",
       " 'face',\n",
       " 'fade']"
      ]
     },
     "execution_count": 38,
     "metadata": {},
     "output_type": "execute_result"
    }
   ],
   "source": [
    "sorted(words_fr, key=cmp_to_key(locale.strcoll))"
   ]
  },
  {
   "cell_type": "code",
   "execution_count": 41,
   "id": "8f18ac6a-0dc5-4fdd-92a8-baced32a323f",
   "metadata": {},
   "outputs": [
    {
     "name": "stdout",
     "output_type": "stream",
     "text": [
      "['mano', 'matador', 'mañana']\n",
      "['mañana', 'mano', 'matador']\n",
      "['mano', 'mañana', 'matador']\n"
     ]
    }
   ],
   "source": [
    "words_es = [ \"mano\", \"mañana\", \"matador\" ]\n",
    "print(sorted(words_es))\n",
    "print(sorted(words_es, key=cmp_to_key(locale.strcoll)))\n",
    "locale.setlocale(locale.LC_ALL, 'es_ES.UTF-8')\n",
    "print(sorted(words_es, key=cmp_to_key(locale.strcoll)))"
   ]
  }
 ],
 "metadata": {
  "kernelspec": {
   "display_name": "k311",
   "language": "python",
   "name": "k311"
  },
  "language_info": {
   "codemirror_mode": {
    "name": "ipython",
    "version": 3
   },
   "file_extension": ".py",
   "mimetype": "text/x-python",
   "name": "python",
   "nbconvert_exporter": "python",
   "pygments_lexer": "ipython3",
   "version": "3.11.0"
  }
 },
 "nbformat": 4,
 "nbformat_minor": 5
}
