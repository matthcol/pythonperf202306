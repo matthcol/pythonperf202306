{
 "cells": [
  {
   "cell_type": "markdown",
   "id": "dad4720f-5b8c-4c5c-b233-12f867a373d9",
   "metadata": {},
   "source": [
    "# Pattern Matching\n",
    "Since in python 3.10\n",
    "Tutorial (PEP 636): https://peps.python.org/pep-0636/"
   ]
  },
  {
   "cell_type": "code",
   "execution_count": 1,
   "id": "080b6f6f-38ae-4dc4-a776-bf1b6e5d6442",
   "metadata": {},
   "outputs": [],
   "source": [
    "from enum import IntEnum\n",
    "from geometry import Point"
   ]
  },
  {
   "cell_type": "markdown",
   "id": "f1fce188-ef83-4825-8127-e2bb93e1a492",
   "metadata": {},
   "source": [
    "## 1. Simple values"
   ]
  },
  {
   "cell_type": "code",
   "execution_count": 2,
   "id": "75ed921a-7eca-4452-a28e-0c330544eeda",
   "metadata": {},
   "outputs": [
    {
     "name": "stdout",
     "output_type": "stream",
     "text": [
      "Choix 0\n",
      "Choix 1, 2 ou 3\n",
      "Choix 1, 2 ou 3\n",
      "Choix 1, 2 ou 3\n",
      "Choix 4 à 6\n",
      "Choix 4 à 6\n",
      "Choix 4 à 6\n",
      "Other choice: 7\n",
      "Other choice: 8\n",
      "Other choice: 9\n"
     ]
    }
   ],
   "source": [
    "for x in range(10):\n",
    "    match x:\n",
    "        case 0:\n",
    "            print(\"Choix 0\")\n",
    "        case 1|2|3:\n",
    "            print(\"Choix 1, 2 ou 3\")\n",
    "        case _ if x in range(4,7):\n",
    "            print(\"Choix 4 à 6\")\n",
    "        case _:\n",
    "            print(\"Other choice:\", x)"
   ]
  },
  {
   "cell_type": "markdown",
   "id": "85606d9f-28d7-4ba5-938a-902d0522bbd0",
   "metadata": {},
   "source": [
    "## 2. Simple values by type"
   ]
  },
  {
   "cell_type": "code",
   "execution_count": 3,
   "id": "f3a94fcf-6a29-4987-bc5e-909d54395d9b",
   "metadata": {},
   "outputs": [
    {
     "name": "stdout",
     "output_type": "stream",
     "text": [
      "Compute with int: 4\n",
      "Compute with float: 5.5\n",
      "Compute with bool: inv =  False\n",
      "Compute with bool: inv =  True\n",
      "Compute with str: length = 4\n",
      "Cannot process this type of data: <class 'list'>\n"
     ]
    }
   ],
   "source": [
    "for x in 1, 2.5, True, False, \"data\", []:\n",
    "    match x:\n",
    "        case bool(b):\n",
    "            print(\"Compute with bool: inv = \", not b)\n",
    "        case int(i):\n",
    "            print(\"Compute with int:\", i + 3)\n",
    "        case float(f):\n",
    "            print(\"Compute with float:\", f + 3)\n",
    "        case str(s):\n",
    "            print(\"Compute with str: length =\", len(s)) \n",
    "        case _:\n",
    "            print(\"Cannot process this type of data:\", type(x))"
   ]
  },
  {
   "cell_type": "markdown",
   "id": "b9d159ba-7cd4-49bd-8d08-af56d705e579",
   "metadata": {},
   "source": [
    "## 3. builtin containers"
   ]
  },
  {
   "cell_type": "code",
   "execution_count": 4,
   "id": "e1e154fe-3635-4f5e-992a-8b4236d330a6",
   "metadata": {},
   "outputs": [
    {
     "name": "stdout",
     "output_type": "stream",
     "text": [
      "Stay here\n",
      "Go North until North pole\n",
      "Go West for 10 km ; total: 10 km\n",
      "Go South for 10 km then 15 km then 25 km ; total: 50 km\n"
     ]
    }
   ],
   "source": [
    "for c in [], [\"North\"], [\"West\", 10], [\"South\", 10, 15, 25]:\n",
    "    match c:\n",
    "        case []:\n",
    "            print(\"Stay here\")\n",
    "        case [\"North\"]:\n",
    "            print(\"Go North until North pole\")\n",
    "        case [\"North\"|\"South\"|\"East\"|\"West\" as dest, *km]:\n",
    "            path = \" then \".join(f\"{k} km\" for k in km)\n",
    "            totalKm = sum(km)\n",
    "            print(f\"Go {dest} for {path} ; total: {totalKm} km\")\n",
    "        case _:\n",
    "            print(\"Unknown destination\")"
   ]
  },
  {
   "cell_type": "code",
   "execution_count": 5,
   "id": "879cccef-551f-43ab-89d6-90f364910fff",
   "metadata": {},
   "outputs": [
    {
     "name": "stdout",
     "output_type": "stream",
     "text": [
      "No name, x=12, y=14\n",
      "name=A, x=15, y=16\n",
      "Unable to interpret data as a 2D Point\n",
      "No name, x=12, y=14\n",
      "name=A, x=15, y=16\n",
      "Unable to interpret data as a 2D Point\n"
     ]
    }
   ],
   "source": [
    "for t in (12,14), (\"A\",15,16), (13,15,16), [12,14], [\"A\",15,16], [13,15,16]:\n",
    "    match t:\n",
    "        case (x, y):\n",
    "            print(f\"No name, x={x}, y={y}\")\n",
    "        case (str(n), x, y):\n",
    "            print(f\"name={n}, x={x}, y={y}\")\n",
    "        case _:\n",
    "            print(\"Unable to interpret data as a 2D Point\")"
   ]
  },
  {
   "cell_type": "code",
   "execution_count": 6,
   "id": "a9238808-3595-44f4-8b24-a0f4ed12b3cd",
   "metadata": {},
   "outputs": [
    {
     "name": "stdout",
     "output_type": "stream",
     "text": [
      "x: 12 y: 14\n",
      "only x: 12\n",
      "only y: 14\n",
      "name: A x: 12 y: 14\n",
      "\t-misc: {}\n",
      "name: A x: 12 y: 14\n",
      "\t-misc: {'color': 'red'}\n",
      "name: A x: 12 y: 14\n",
      "\t-misc: {'weight': 4.5}\n",
      "name: A x: 12 y: 14\n",
      "\t-misc: {'color': 'red', 'weight': 4.5}\n",
      "Missing at least x or y key\n",
      "Cannot process data of type: <class 'str'>\n"
     ]
    }
   ],
   "source": [
    "for d in (\n",
    "    {\"x\":12, \"y\":14}, {\"x\":12}, {\"y\":14}, {\"name\": \"A\", \"x\":12, \"y\":14},\n",
    "    {\"name\": \"A\", \"x\":12, \"y\":14, \"color\": \"red\"},\n",
    "    {\"name\": \"A\", \"x\":12, \"y\":14, \"weight\": 4.5},\n",
    "    {\"name\": \"A\", \"x\":12, \"y\":14, \"color\": \"red\", \"weight\": 4.5},\n",
    "    {}, \"this is not a dictionnary\",\n",
    "):\n",
    "    match d:\n",
    "        case {\"name\": name, \"x\": x, \"y\": y, **remain}:\n",
    "        # case {\"name\": name, \"x\": x, \"y\": y}:\n",
    "            print(\"name:\", name, \"x:\", x, \"y:\", y)\n",
    "            print(\"\\t-misc:\", remain)\n",
    "        case {\"x\": x, \"y\": y}:\n",
    "            print(\"x:\", x, \"y:\", y)\n",
    "        case {\"x\": x}:\n",
    "            print(\"only x:\",x)\n",
    "        case {\"y\": y}:\n",
    "            print(\"only y:\",y)\n",
    "        case {}: # all other dictionnaries\n",
    "            print(\"Missing at least x or y key\")\n",
    "        case _:\n",
    "            print(\"Cannot process data of type:\", type(d))\n",
    "    "
   ]
  },
  {
   "cell_type": "markdown",
   "id": "fb3e5d11-ee9c-4809-950d-8bdcfc0cfdfe",
   "metadata": {},
   "source": [
    "## 4. Enum type"
   ]
  },
  {
   "cell_type": "code",
   "execution_count": 7,
   "id": "926dd8a5-ad16-41a8-9d34-cfd0f5e76611",
   "metadata": {},
   "outputs": [],
   "source": [
    "class Direction(IntEnum):\n",
    "    WEST=270\n",
    "    NORTH=0\n",
    "    EAST=90\n",
    "    SOUTH=180    "
   ]
  },
  {
   "cell_type": "code",
   "execution_count": 8,
   "id": "9235c765-badf-4968-a62f-4804be8e8a58",
   "metadata": {},
   "outputs": [
    {
     "name": "stdout",
     "output_type": "stream",
     "text": [
      "Go to the ocean\n",
      "Go to a pole\n",
      "Go to the sea\n",
      "Go to a pole\n"
     ]
    }
   ],
   "source": [
    "for d in Direction:\n",
    "    match d:\n",
    "        case Direction.WEST:\n",
    "            print(\"Go to the ocean\")\n",
    "        case Direction.NORTH | Direction.SOUTH:\n",
    "            print(\"Go to a pole\")\n",
    "        case Direction.EAST:\n",
    "            print(\"Go to the sea\")"
   ]
  },
  {
   "cell_type": "markdown",
   "id": "ae8ab120-331d-44ee-ade0-e59398bd8faa",
   "metadata": {},
   "source": [
    "## 5. Object with attributes"
   ]
  },
  {
   "cell_type": "code",
   "execution_count": 9,
   "id": "e60da709-f756-4108-a00e-5f074f3ef882",
   "metadata": {},
   "outputs": [
    {
     "name": "stdout",
     "output_type": "stream",
     "text": [
      "This is an unnamed point: ?(0.0,0.0)\n",
      "This is a A point: A(3,4)\n",
      "This is an unnamed point: ?(3,5)\n",
      "This is a point with x=7: B 12\n",
      "This is a point with x=7: C 15\n",
      "This is a point: D(8,12)\n"
     ]
    }
   ],
   "source": [
    "for p in (\n",
    "    Point(), Point(\"A\",3,4), Point(x=3,y=5), \n",
    "    Point(\"B\",7,12),Point(\"C\",7,15),\n",
    "    Point(\"D\",8,12),\n",
    "):\n",
    "    match p:\n",
    "        case Point(name=\"A\"):\n",
    "            print(\"This is a A point:\",p)\n",
    "        case Point(name=None):\n",
    "            print(\"This is an unnamed point:\",p)\n",
    "        case Point(name=name,x=7,y=y):\n",
    "            print(\"This is a point with x=7:\",name, y)\n",
    "        case Point():\n",
    "            print(\"This is a point:\",p)"
   ]
  },
  {
   "cell_type": "code",
   "execution_count": 14,
   "id": "4573a740-2c80-4a7c-adbf-8b8cdefd9d49",
   "metadata": {},
   "outputs": [
    {
     "name": "stdout",
     "output_type": "stream",
     "text": [
      "This is an unnamed point: ?(0.0,0.0)\n",
      "This is a A point: A(3,4)\n",
      "This is an unnamed point: ?(3,5)\n",
      "This is a point with x=7: B 12\n",
      "This is a point with x=7: C 15\n",
      "This is a point: D(8,12)\n"
     ]
    }
   ],
   "source": [
    "for p in (\n",
    "    Point(), Point(\"A\",3,4), Point(x=3,y=5), \n",
    "    Point(\"B\",7,12),Point(\"C\",7,15),\n",
    "    Point(\"D\",8,12),\n",
    "):\n",
    "    match p:\n",
    "        case Point(\"A\"):\n",
    "            print(\"This is a A point:\",p)\n",
    "        case Point(None):\n",
    "            print(\"This is an unnamed point:\",p)\n",
    "        case Point(str(name),7,y):\n",
    "            print(\"This is a point with x=7:\",name, y)\n",
    "        case Point():\n",
    "            print(\"This is a point:\",p)"
   ]
  }
 ],
 "metadata": {
  "kernelspec": {
   "display_name": "k311",
   "language": "python",
   "name": "k311"
  },
  "language_info": {
   "codemirror_mode": {
    "name": "ipython",
    "version": 3
   },
   "file_extension": ".py",
   "mimetype": "text/x-python",
   "name": "python",
   "nbconvert_exporter": "python",
   "pygments_lexer": "ipython3",
   "version": "3.11.0"
  }
 },
 "nbformat": 4,
 "nbformat_minor": 5
}
