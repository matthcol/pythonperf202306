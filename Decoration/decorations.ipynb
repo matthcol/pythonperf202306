{
 "cells": [
  {
   "cell_type": "markdown",
   "id": "68d98ddf-c07d-4022-85ab-2719dd46f057",
   "metadata": {},
   "source": [
    "# Décorations\n",
    "- Python: @dataclass, @staticmethod, @classmethod, @property, @lru_cache\n",
    "- Pytest: @pytest.fixture, @pytest.mark\n",
    "- Api rest avec Flask ou Fastapi: routage\n",
    "\n",
    "Tutoriel: https://realpython.com/primer-on-python-decorators/"
   ]
  },
  {
   "cell_type": "code",
   "execution_count": 22,
   "id": "8abc8da4-ab74-4712-84a3-aa710a7f043b",
   "metadata": {},
   "outputs": [],
   "source": [
    "import functools\n",
    "from datetime import datetime\n",
    "from time import sleep"
   ]
  },
  {
   "cell_type": "markdown",
   "id": "a34023e6-af07-4283-9042-141da5b490a7",
   "metadata": {},
   "source": [
    "## Décoration @lru_cache\n",
    "LRU = Least Recent Used"
   ]
  },
  {
   "cell_type": "code",
   "execution_count": 2,
   "id": "c5691684-6516-49da-901a-c21d8ff11919",
   "metadata": {},
   "outputs": [],
   "source": [
    "def fibo_imperative(n):\n",
    "    a = 0\n",
    "    b = 1\n",
    "    if n == 1:\n",
    "        return a\n",
    "    elif n == 2:\n",
    "        return b\n",
    "    for i in range(n-2):\n",
    "        a, b = b, a + b\n",
    "    return b"
   ]
  },
  {
   "cell_type": "code",
   "execution_count": 7,
   "id": "cffe1477-f2cd-4da5-959d-df1b424bf248",
   "metadata": {},
   "outputs": [
    {
     "name": "stdout",
     "output_type": "stream",
     "text": [
      "12.6 µs ± 1.31 µs per loop (mean ± std. dev. of 7 runs, 100000 loops each)\n"
     ]
    }
   ],
   "source": [
    "n = 100\n",
    "%timeit res1 = fibo_imperative(n)"
   ]
  },
  {
   "cell_type": "code",
   "execution_count": 8,
   "id": "dd5297f2-2538-4920-a6ae-02bd7ea213ea",
   "metadata": {},
   "outputs": [],
   "source": [
    "def fibo_rec(n):\n",
    "    if n == 1:\n",
    "        return 0\n",
    "    elif n == 2:\n",
    "        return 1\n",
    "    else:\n",
    "        return fibo_rec(n-1) + fibo_rec(n-2)"
   ]
  },
  {
   "cell_type": "code",
   "execution_count": 17,
   "id": "8be01114-b3fb-49e8-87ad-345c7173bdcd",
   "metadata": {},
   "outputs": [
    {
     "name": "stdout",
     "output_type": "stream",
     "text": [
      "1min 11s ± 5.15 s per loop (mean ± std. dev. of 7 runs, 1 loop each)\n"
     ]
    }
   ],
   "source": [
    "%timeit fibo_rec(40)"
   ]
  },
  {
   "cell_type": "code",
   "execution_count": 13,
   "id": "21095cde-9c7c-4969-804e-1b2f768c565d",
   "metadata": {},
   "outputs": [],
   "source": [
    "@functools.lru_cache\n",
    "def fibo_rec_opt(n):\n",
    "    if n == 1:\n",
    "        return 0\n",
    "    elif n == 2:\n",
    "        return 1\n",
    "    else:\n",
    "        return fibo_rec_opt(n-1) + fibo_rec_opt(n-2)"
   ]
  },
  {
   "cell_type": "code",
   "execution_count": 15,
   "id": "7aa3c877-394c-4bcf-b1c0-d70708f5a08b",
   "metadata": {},
   "outputs": [
    {
     "name": "stdout",
     "output_type": "stream",
     "text": [
      "196 ns ± 12 ns per loop (mean ± std. dev. of 7 runs, 10000000 loops each)\n"
     ]
    }
   ],
   "source": [
    "%timeit res3 = fibo_rec_opt(n)"
   ]
  },
  {
   "cell_type": "markdown",
   "id": "8215c8f7-9483-45b4-a5b5-d2d5f39e0df6",
   "metadata": {},
   "source": [
    "## Décorateur @chrono"
   ]
  },
  {
   "cell_type": "code",
   "execution_count": 52,
   "id": "77b65b96-87a8-4e9a-ad52-d89671f82e00",
   "metadata": {},
   "outputs": [],
   "source": [
    "def chrono(fun):\n",
    "    @functools.wraps(fun)\n",
    "    def chrono_wrapper(*args,**kwargs):\n",
    "        t1 = datetime.now()\n",
    "        res = fun(*args,**kwargs)\n",
    "        t2 = datetime.now()\n",
    "        delta = t2 - t1\n",
    "        print(\"Chrono:\", delta)\n",
    "        return res\n",
    "    # chrono_wrapper.__name__ = fun.__name__\n",
    "    return chrono_wrapper"
   ]
  },
  {
   "cell_type": "code",
   "execution_count": 53,
   "id": "d8394488-5b7b-482b-8d5d-e2663b7bf6c5",
   "metadata": {},
   "outputs": [],
   "source": [
    "@chrono\n",
    "def f():\n",
    "    \"\"\"sleepy function\n",
    "    sleep during 3 seconds\n",
    "    \"\"\"\n",
    "    sleep(3)"
   ]
  },
  {
   "cell_type": "code",
   "execution_count": 58,
   "id": "18b242f5-d9e5-42e4-9ccd-3ce0d023f634",
   "metadata": {},
   "outputs": [
    {
     "name": "stdout",
     "output_type": "stream",
     "text": [
      "Chrono: 0:00:03.001201\n"
     ]
    }
   ],
   "source": [
    "assert f() is None"
   ]
  },
  {
   "cell_type": "code",
   "execution_count": 55,
   "id": "011b176a-127a-4320-9eaa-693abfd934a2",
   "metadata": {},
   "outputs": [],
   "source": [
    "# code précédent équivalent au suivant\n",
    "# f2 = chrono(f)\n",
    "# f2()"
   ]
  },
  {
   "cell_type": "code",
   "execution_count": 56,
   "id": "62d522a1-96d3-4d2a-9e7b-5f3c1d33639e",
   "metadata": {},
   "outputs": [
    {
     "data": {
      "text/plain": [
       "\u001b[1;31mSignature:\u001b[0m \u001b[0mf\u001b[0m\u001b[1;33m(\u001b[0m\u001b[1;33m)\u001b[0m\u001b[1;33m\u001b[0m\u001b[1;33m\u001b[0m\u001b[0m\n",
       "\u001b[1;31mDocstring:\u001b[0m\n",
       "sleepy function\n",
       "sleep during 3 seconds\n",
       "\u001b[1;31mFile:\u001b[0m      c:\\users\\matthias\\appdata\\local\\temp\\ipykernel_11700\\3526985709.py\n",
       "\u001b[1;31mType:\u001b[0m      function\n"
      ]
     },
     "metadata": {},
     "output_type": "display_data"
    }
   ],
   "source": [
    "f?"
   ]
  },
  {
   "cell_type": "code",
   "execution_count": 57,
   "id": "64d0150c-8351-410b-b879-2378ba477a74",
   "metadata": {},
   "outputs": [
    {
     "name": "stdout",
     "output_type": "stream",
     "text": [
      "Help on function f in module __main__:\n",
      "\n",
      "f()\n",
      "    sleepy function\n",
      "    sleep during 3 seconds\n",
      "\n"
     ]
    }
   ],
   "source": [
    "help(f)"
   ]
  },
  {
   "cell_type": "code",
   "execution_count": 51,
   "id": "756e4452-d924-422a-910b-39aaa8315b7a",
   "metadata": {},
   "outputs": [
    {
     "data": {
      "text/plain": [
       "('f', '__main__')"
      ]
     },
     "execution_count": 51,
     "metadata": {},
     "output_type": "execute_result"
    }
   ],
   "source": [
    "f.__name__, f.__module__"
   ]
  },
  {
   "cell_type": "markdown",
   "id": "bfdc8fe7-8157-404c-b88c-de2614b03e49",
   "metadata": {},
   "source": [
    "### Chronomètre Fibo imperatif"
   ]
  },
  {
   "cell_type": "code",
   "execution_count": 59,
   "id": "cede5acc-c7e2-4155-8bdd-697e94295d81",
   "metadata": {},
   "outputs": [],
   "source": [
    "fibo_imperative = chrono(fibo_imperative)"
   ]
  },
  {
   "cell_type": "code",
   "execution_count": 62,
   "id": "6b1260d7-e0a1-4d9a-903a-3a1058e2fbe1",
   "metadata": {},
   "outputs": [
    {
     "name": "stdout",
     "output_type": "stream",
     "text": [
      "Chrono: 0:00:00\n"
     ]
    },
    {
     "data": {
      "text/plain": [
       "108788617463475645289761992289049744844995705477812699099751202749393926359816304226"
      ]
     },
     "execution_count": 62,
     "metadata": {},
     "output_type": "execute_result"
    }
   ],
   "source": [
    "fibo_imperative(400)"
   ]
  },
  {
   "cell_type": "markdown",
   "id": "ba41b6e6-fc65-4537-a9d0-b6989a08eae9",
   "metadata": {},
   "source": [
    "### Chronometre Fibo recursif"
   ]
  },
  {
   "cell_type": "code",
   "execution_count": 64,
   "id": "d7763637-b558-4e6e-aa22-400c768efb27",
   "metadata": {},
   "outputs": [],
   "source": [
    "@chrono\n",
    "def fibo_rec(n):\n",
    "    def _fibo_rec(n):\n",
    "        if n == 1:\n",
    "            return 0\n",
    "        elif n == 2:\n",
    "            return 1\n",
    "        else:\n",
    "            return _fibo_rec(n-1) + _fibo_rec(n-2)\n",
    "    return _fibo_rec(n)"
   ]
  },
  {
   "cell_type": "code",
   "execution_count": 66,
   "id": "dc1365bc-7875-44e7-adff-5d35236387a4",
   "metadata": {},
   "outputs": [
    {
     "name": "stdout",
     "output_type": "stream",
     "text": [
      "Chrono: 0:00:56.708090\n"
     ]
    },
    {
     "data": {
      "text/plain": [
       "63245986"
      ]
     },
     "execution_count": 66,
     "metadata": {},
     "output_type": "execute_result"
    }
   ],
   "source": [
    "fibo_rec(40)"
   ]
  },
  {
   "cell_type": "markdown",
   "id": "59a53e5c-5863-4ebe-8796-0845ac491f52",
   "metadata": {},
   "source": [
    "### Chronometre Fibo recursif with LRU cache"
   ]
  },
  {
   "cell_type": "code",
   "execution_count": null,
   "id": "664ed66f-7732-4cb7-b84c-1c8cfe0c085a",
   "metadata": {},
   "outputs": [],
   "source": [
    "@chrono\n",
    "def fibo_rec(n):\n",
    "    def _fibo_rec(n):\n",
    "        if n == 1:\n",
    "            return 0\n",
    "        elif n == 2:\n",
    "            return 1\n",
    "        else:\n",
    "            return _fibo_rec(n-1) + _fibo_rec(n-2)\n",
    "    return _fibo_rec(n)"
   ]
  },
  {
   "cell_type": "code",
   "execution_count": null,
   "id": "b461d3f7-abf4-440f-953c-5e7a6c80129c",
   "metadata": {},
   "outputs": [],
   "source": [
    "fibo_rec(40)"
   ]
  }
 ],
 "metadata": {
  "kernelspec": {
   "display_name": "Python 3 (ipykernel)",
   "language": "python",
   "name": "python3"
  },
  "language_info": {
   "codemirror_mode": {
    "name": "ipython",
    "version": 3
   },
   "file_extension": ".py",
   "mimetype": "text/x-python",
   "name": "python",
   "nbconvert_exporter": "python",
   "pygments_lexer": "ipython3",
   "version": "3.9.12"
  }
 },
 "nbformat": 4,
 "nbformat_minor": 5
}
