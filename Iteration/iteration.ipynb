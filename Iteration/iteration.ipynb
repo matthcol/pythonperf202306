{
 "cells": [
  {
   "cell_type": "markdown",
   "id": "20ec3ef7-f435-46ec-b42d-c965b1234654",
   "metadata": {},
   "source": [
    "# Iteration"
   ]
  },
  {
   "cell_type": "code",
   "execution_count": 22,
   "id": "0eb2d68f-124e-4835-8aca-779736351af4",
   "metadata": {},
   "outputs": [],
   "source": [
    "from collections.abc import Iterable"
   ]
  },
  {
   "cell_type": "markdown",
   "id": "1695ec36-0496-4051-b93d-46e9c794b240",
   "metadata": {},
   "source": [
    "## 1. Builtin data iterable\n",
    "- list\n",
    "- tuple\n",
    "- dict\n",
    "- set\n",
    "- str"
   ]
  },
  {
   "cell_type": "code",
   "execution_count": 6,
   "id": "8db38bfd-a76c-4972-94d5-d1849a18f149",
   "metadata": {},
   "outputs": [],
   "source": [
    "cities = [ \"Toulouse\", \"Lyon\", \"Pau\", \"Paris\" ]\n",
    "city_t = (\"Toulouse\", 470000, \"31000\")\n",
    "city_dict = {\n",
    "    \"name\": \"Toulouse\",\n",
    "    \"population\": 470000,\n",
    "    \"cp\": \"31000\"\n",
    "}"
   ]
  },
  {
   "cell_type": "code",
   "execution_count": 4,
   "id": "42391221-60ec-417e-9bcc-f73d89e23cea",
   "metadata": {},
   "outputs": [
    {
     "name": "stdout",
     "output_type": "stream",
     "text": [
      "Toulouse\n",
      "Lyon\n",
      "Pau\n",
      "Paris\n"
     ]
    }
   ],
   "source": [
    "for city in cities:\n",
    "    print(city)"
   ]
  },
  {
   "cell_type": "code",
   "execution_count": 5,
   "id": "23c6bad5-887f-4df1-a332-ed4477d1d4f8",
   "metadata": {},
   "outputs": [
    {
     "name": "stdout",
     "output_type": "stream",
     "text": [
      "Toulouse\n",
      "470000\n",
      "31000\n"
     ]
    }
   ],
   "source": [
    "for info in city_t:\n",
    "    print(info)"
   ]
  },
  {
   "cell_type": "code",
   "execution_count": 8,
   "id": "54a77470-1b6c-4aa2-ab80-46ab1b1f6f7f",
   "metadata": {},
   "outputs": [
    {
     "name": "stdout",
     "output_type": "stream",
     "text": [
      "name\n",
      "population\n",
      "cp\n"
     ]
    }
   ],
   "source": [
    "# default iteration on dictionnaries with the keys\n",
    "for info_name in city_dict:\n",
    "    print(info_name)"
   ]
  },
  {
   "cell_type": "code",
   "execution_count": 9,
   "id": "20482d60-4002-4829-a67a-d04f29acba76",
   "metadata": {},
   "outputs": [
    {
     "name": "stdout",
     "output_type": "stream",
     "text": [
      "name\n",
      "population\n",
      "cp\n"
     ]
    }
   ],
   "source": [
    "for info_name in city_dict.keys():\n",
    "    print(info_name)"
   ]
  },
  {
   "cell_type": "code",
   "execution_count": 10,
   "id": "e38a47a7-d258-4620-b64f-8c3fa60f574a",
   "metadata": {},
   "outputs": [
    {
     "name": "stdout",
     "output_type": "stream",
     "text": [
      "Toulouse\n",
      "470000\n",
      "31000\n"
     ]
    }
   ],
   "source": [
    "for info_value in city_dict.values():\n",
    "    print(info_value)"
   ]
  },
  {
   "cell_type": "code",
   "execution_count": 11,
   "id": "ebdcf042-3b04-4b45-a3f9-1ffc36e58a1d",
   "metadata": {},
   "outputs": [
    {
     "name": "stdout",
     "output_type": "stream",
     "text": [
      "name -> Toulouse\n",
      "population -> 470000\n",
      "cp -> 31000\n"
     ]
    }
   ],
   "source": [
    "for info_name, info_value in city_dict.items():\n",
    "    print(info_name, \"->\", info_value)"
   ]
  },
  {
   "cell_type": "code",
   "execution_count": 12,
   "id": "252f55dc-e15e-425b-94d3-4f3975353870",
   "metadata": {},
   "outputs": [
    {
     "name": "stdout",
     "output_type": "stream",
     "text": [
      "T\n",
      "o\n",
      "u\n",
      "l\n",
      "o\n",
      "u\n",
      "s\n",
      "e\n"
     ]
    }
   ],
   "source": [
    "city = cities[0]\n",
    "for letter in city:\n",
    "    print(letter)"
   ]
  },
  {
   "cell_type": "code",
   "execution_count": 13,
   "id": "8e67ad69-1c38-4225-972c-b631cd3c9032",
   "metadata": {},
   "outputs": [
    {
     "data": {
      "text/plain": [
       "list"
      ]
     },
     "execution_count": 13,
     "metadata": {},
     "output_type": "execute_result"
    }
   ],
   "source": [
    "type(cities)"
   ]
  },
  {
   "cell_type": "code",
   "execution_count": 15,
   "id": "8fe22166-583c-44c3-b687-6a5efa337117",
   "metadata": {},
   "outputs": [],
   "source": [
    "# # TypeError: 'int' object is not iterable\n",
    "# for x in 123:\n",
    "#     pass"
   ]
  },
  {
   "cell_type": "code",
   "execution_count": 16,
   "id": "8f4ce0a1-6af9-4e70-a9af-b31dfe1107c8",
   "metadata": {},
   "outputs": [
    {
     "data": {
      "text/plain": [
       "<method-wrapper '__iter__' of list object at 0x00000251D6CEEF80>"
      ]
     },
     "execution_count": 16,
     "metadata": {},
     "output_type": "execute_result"
    }
   ],
   "source": [
    "cities.__iter__"
   ]
  },
  {
   "cell_type": "code",
   "execution_count": 25,
   "id": "6ad4f90f-8e5a-4dbf-abd4-075757fdccd6",
   "metadata": {},
   "outputs": [
    {
     "name": "stdout",
     "output_type": "stream",
     "text": [
      "data: ['Toulouse', 'Lyon', 'Pau', 'Paris']\n",
      "\t- type: <class 'list'>\n",
      "\t- iterable (duck typing): True\n",
      "\t- iterable (inheritance): True\n",
      "data: ('Toulouse', 470000, '31000')\n",
      "\t- type: <class 'tuple'>\n",
      "\t- iterable (duck typing): True\n",
      "\t- iterable (inheritance): True\n",
      "data: {'name': 'Toulouse', 'population': 470000, 'cp': '31000'}\n",
      "\t- type: <class 'dict'>\n",
      "\t- iterable (duck typing): True\n",
      "\t- iterable (inheritance): True\n",
      "data: Toulouse\n",
      "\t- type: <class 'str'>\n",
      "\t- iterable (duck typing): True\n",
      "\t- iterable (inheritance): True\n"
     ]
    }
   ],
   "source": [
    "# duck typing: presence of method __iter__ \n",
    "for data in cities, city_t, city_dict, city:\n",
    "    isIterable1 = '__iter__' in dir(data)\n",
    "    isIterable2 = isinstance(data, Iterable)\n",
    "    print(\n",
    "        f\"data: {data}\", \n",
    "        f\"type: {type(data)}\", \n",
    "        f\"iterable (duck typing): {isIterable1}\",\n",
    "        f\"iterable (inheritance): {isIterable2}\",\n",
    "        sep=\"\\n\\t- \"\n",
    "    ) "
   ]
  },
  {
   "cell_type": "code",
   "execution_count": null,
   "id": "e8be47c6-f795-451a-a28a-2a47de0d6178",
   "metadata": {},
   "outputs": [],
   "source": []
  }
 ],
 "metadata": {
  "kernelspec": {
   "display_name": "k311",
   "language": "python",
   "name": "k311"
  },
  "language_info": {
   "codemirror_mode": {
    "name": "ipython",
    "version": 3
   },
   "file_extension": ".py",
   "mimetype": "text/x-python",
   "name": "python",
   "nbconvert_exporter": "python",
   "pygments_lexer": "ipython3",
   "version": "3.11.0"
  }
 },
 "nbformat": 4,
 "nbformat_minor": 5
}
