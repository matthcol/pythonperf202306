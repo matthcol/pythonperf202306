{
 "cells": [
  {
   "cell_type": "markdown",
   "id": "20ec3ef7-f435-46ec-b42d-c965b1234654",
   "metadata": {},
   "source": [
    "# Iteration"
   ]
  },
  {
   "cell_type": "code",
   "execution_count": 76,
   "id": "0eb2d68f-124e-4835-8aca-779736351af4",
   "metadata": {},
   "outputs": [],
   "source": [
    "from collections.abc import Iterable, Iterator\n",
    "from datetime import date"
   ]
  },
  {
   "cell_type": "markdown",
   "id": "1695ec36-0496-4051-b93d-46e9c794b240",
   "metadata": {},
   "source": [
    "## 1. Builtin data iterable\n",
    "- list\n",
    "- tuple\n",
    "- dict\n",
    "- set\n",
    "- str"
   ]
  },
  {
   "cell_type": "code",
   "execution_count": 6,
   "id": "8db38bfd-a76c-4972-94d5-d1849a18f149",
   "metadata": {},
   "outputs": [],
   "source": [
    "cities = [ \"Toulouse\", \"Lyon\", \"Pau\", \"Paris\" ]\n",
    "city_t = (\"Toulouse\", 470000, \"31000\")\n",
    "city_dict = {\n",
    "    \"name\": \"Toulouse\",\n",
    "    \"population\": 470000,\n",
    "    \"cp\": \"31000\"\n",
    "}"
   ]
  },
  {
   "cell_type": "code",
   "execution_count": 4,
   "id": "42391221-60ec-417e-9bcc-f73d89e23cea",
   "metadata": {},
   "outputs": [
    {
     "name": "stdout",
     "output_type": "stream",
     "text": [
      "Toulouse\n",
      "Lyon\n",
      "Pau\n",
      "Paris\n"
     ]
    }
   ],
   "source": [
    "for city in cities:\n",
    "    print(city)"
   ]
  },
  {
   "cell_type": "code",
   "execution_count": 5,
   "id": "23c6bad5-887f-4df1-a332-ed4477d1d4f8",
   "metadata": {},
   "outputs": [
    {
     "name": "stdout",
     "output_type": "stream",
     "text": [
      "Toulouse\n",
      "470000\n",
      "31000\n"
     ]
    }
   ],
   "source": [
    "for info in city_t:\n",
    "    print(info)"
   ]
  },
  {
   "cell_type": "code",
   "execution_count": 8,
   "id": "54a77470-1b6c-4aa2-ab80-46ab1b1f6f7f",
   "metadata": {},
   "outputs": [
    {
     "name": "stdout",
     "output_type": "stream",
     "text": [
      "name\n",
      "population\n",
      "cp\n"
     ]
    }
   ],
   "source": [
    "# default iteration on dictionnaries with the keys\n",
    "for info_name in city_dict:\n",
    "    print(info_name)"
   ]
  },
  {
   "cell_type": "code",
   "execution_count": 9,
   "id": "20482d60-4002-4829-a67a-d04f29acba76",
   "metadata": {},
   "outputs": [
    {
     "name": "stdout",
     "output_type": "stream",
     "text": [
      "name\n",
      "population\n",
      "cp\n"
     ]
    }
   ],
   "source": [
    "for info_name in city_dict.keys():\n",
    "    print(info_name)"
   ]
  },
  {
   "cell_type": "code",
   "execution_count": 10,
   "id": "e38a47a7-d258-4620-b64f-8c3fa60f574a",
   "metadata": {},
   "outputs": [
    {
     "name": "stdout",
     "output_type": "stream",
     "text": [
      "Toulouse\n",
      "470000\n",
      "31000\n"
     ]
    }
   ],
   "source": [
    "for info_value in city_dict.values():\n",
    "    print(info_value)"
   ]
  },
  {
   "cell_type": "code",
   "execution_count": 11,
   "id": "ebdcf042-3b04-4b45-a3f9-1ffc36e58a1d",
   "metadata": {},
   "outputs": [
    {
     "name": "stdout",
     "output_type": "stream",
     "text": [
      "name -> Toulouse\n",
      "population -> 470000\n",
      "cp -> 31000\n"
     ]
    }
   ],
   "source": [
    "for info_name, info_value in city_dict.items():\n",
    "    print(info_name, \"->\", info_value)"
   ]
  },
  {
   "cell_type": "code",
   "execution_count": 12,
   "id": "252f55dc-e15e-425b-94d3-4f3975353870",
   "metadata": {},
   "outputs": [
    {
     "name": "stdout",
     "output_type": "stream",
     "text": [
      "T\n",
      "o\n",
      "u\n",
      "l\n",
      "o\n",
      "u\n",
      "s\n",
      "e\n"
     ]
    }
   ],
   "source": [
    "city = cities[0]\n",
    "for letter in city:\n",
    "    print(letter)"
   ]
  },
  {
   "cell_type": "code",
   "execution_count": 13,
   "id": "8e67ad69-1c38-4225-972c-b631cd3c9032",
   "metadata": {},
   "outputs": [
    {
     "data": {
      "text/plain": [
       "list"
      ]
     },
     "execution_count": 13,
     "metadata": {},
     "output_type": "execute_result"
    }
   ],
   "source": [
    "type(cities)"
   ]
  },
  {
   "cell_type": "code",
   "execution_count": 15,
   "id": "8fe22166-583c-44c3-b687-6a5efa337117",
   "metadata": {},
   "outputs": [],
   "source": [
    "# # TypeError: 'int' object is not iterable\n",
    "# for x in 123:\n",
    "#     pass"
   ]
  },
  {
   "cell_type": "code",
   "execution_count": 16,
   "id": "8f4ce0a1-6af9-4e70-a9af-b31dfe1107c8",
   "metadata": {},
   "outputs": [
    {
     "data": {
      "text/plain": [
       "<method-wrapper '__iter__' of list object at 0x00000251D6CEEF80>"
      ]
     },
     "execution_count": 16,
     "metadata": {},
     "output_type": "execute_result"
    }
   ],
   "source": [
    "cities.__iter__"
   ]
  },
  {
   "cell_type": "code",
   "execution_count": 25,
   "id": "6ad4f90f-8e5a-4dbf-abd4-075757fdccd6",
   "metadata": {},
   "outputs": [
    {
     "name": "stdout",
     "output_type": "stream",
     "text": [
      "data: ['Toulouse', 'Lyon', 'Pau', 'Paris']\n",
      "\t- type: <class 'list'>\n",
      "\t- iterable (duck typing): True\n",
      "\t- iterable (inheritance): True\n",
      "data: ('Toulouse', 470000, '31000')\n",
      "\t- type: <class 'tuple'>\n",
      "\t- iterable (duck typing): True\n",
      "\t- iterable (inheritance): True\n",
      "data: {'name': 'Toulouse', 'population': 470000, 'cp': '31000'}\n",
      "\t- type: <class 'dict'>\n",
      "\t- iterable (duck typing): True\n",
      "\t- iterable (inheritance): True\n",
      "data: Toulouse\n",
      "\t- type: <class 'str'>\n",
      "\t- iterable (duck typing): True\n",
      "\t- iterable (inheritance): True\n"
     ]
    }
   ],
   "source": [
    "# duck typing: presence of method __iter__ \n",
    "for data in cities, city_t, city_dict, city:\n",
    "    isIterable1 = '__iter__' in dir(data)\n",
    "    isIterable2 = isinstance(data, Iterable)\n",
    "    print(\n",
    "        f\"data: {data}\", \n",
    "        f\"type: {type(data)}\", \n",
    "        f\"iterable (duck typing): {isIterable1}\",\n",
    "        f\"iterable (inheritance): {isIterable2}\",\n",
    "        sep=\"\\n\\t- \"\n",
    "    ) "
   ]
  },
  {
   "cell_type": "markdown",
   "id": "53b55dcf-04b2-43b8-b49d-d17410665157",
   "metadata": {},
   "source": [
    "### NB: formated string"
   ]
  },
  {
   "cell_type": "code",
   "execution_count": 29,
   "id": "d0c80a63-897d-4ab3-8f3f-01ffe7013de6",
   "metadata": {},
   "outputs": [
    {
     "data": {
      "text/plain": [
       "datetime.date(2023, 6, 19)"
      ]
     },
     "execution_count": 29,
     "metadata": {},
     "output_type": "execute_result"
    }
   ],
   "source": [
    "day = date.today()\n",
    "day"
   ]
  },
  {
   "cell_type": "code",
   "execution_count": 31,
   "id": "3685f3ef-e09c-463f-b1d1-ffa37b822f4d",
   "metadata": {},
   "outputs": [
    {
     "data": {
      "text/plain": [
       "'city: Toulouse, population: 470000, day: 19/06/2023'"
      ]
     },
     "execution_count": 31,
     "metadata": {},
     "output_type": "execute_result"
    }
   ],
   "source": [
    "\"city: {}, population: {}, day: {:%d/%m/%Y}\".format(city, city_t[1], day)"
   ]
  },
  {
   "cell_type": "code",
   "execution_count": 32,
   "id": "61b84f3e-003a-4e97-b2b8-ff4dd2e1c55f",
   "metadata": {},
   "outputs": [
    {
     "data": {
      "text/plain": [
       "'city: Toulouse, population: 470000, day: 19/06/2023'"
      ]
     },
     "execution_count": 32,
     "metadata": {},
     "output_type": "execute_result"
    }
   ],
   "source": [
    "f\"city: {city}, population: {city_t[1]}, day: {day:%d/%m/%Y}\""
   ]
  },
  {
   "cell_type": "markdown",
   "id": "9133e07f-3271-417f-b101-bdcb1cc2ce47",
   "metadata": {},
   "source": [
    "## 2. Generator, lazy evaluation"
   ]
  },
  {
   "cell_type": "code",
   "execution_count": 43,
   "id": "b56d867a-cbe3-4936-858b-2fd27f87fb70",
   "metadata": {},
   "outputs": [],
   "source": [
    "def generator_cities():\n",
    "    return (c.upper() for c in cities)"
   ]
  },
  {
   "cell_type": "code",
   "execution_count": 44,
   "id": "3d152aa2-f1bd-4564-aa24-07a4b47eed84",
   "metadata": {},
   "outputs": [
    {
     "data": {
      "text/plain": [
       "<generator object generator_cities.<locals>.<genexpr> at 0x00000251D720A5A0>"
      ]
     },
     "execution_count": 44,
     "metadata": {},
     "output_type": "execute_result"
    }
   ],
   "source": [
    "g = generator_cities()\n",
    "g"
   ]
  },
  {
   "cell_type": "code",
   "execution_count": 45,
   "id": "ec95150b-acdb-49aa-a04b-cebfecfc246a",
   "metadata": {},
   "outputs": [
    {
     "data": {
      "text/plain": [
       "True"
      ]
     },
     "execution_count": 45,
     "metadata": {},
     "output_type": "execute_result"
    }
   ],
   "source": [
    "isinstance(g, Iterable)"
   ]
  },
  {
   "cell_type": "code",
   "execution_count": 46,
   "id": "0a3be702-dcb3-4130-aacf-9dbfc4b46eef",
   "metadata": {},
   "outputs": [
    {
     "name": "stdout",
     "output_type": "stream",
     "text": [
      "TOULOUSE\n",
      "LYON\n",
      "PAU\n",
      "PARIS\n"
     ]
    }
   ],
   "source": [
    "for c in g:\n",
    "    print(c)"
   ]
  },
  {
   "cell_type": "code",
   "execution_count": 47,
   "id": "8eefe7df-40f1-4b14-b06e-508e55027c08",
   "metadata": {},
   "outputs": [
    {
     "data": {
      "text/plain": [
       "['TOULOUSE', 'LYON', 'PAU', 'PARIS']"
      ]
     },
     "execution_count": 47,
     "metadata": {},
     "output_type": "execute_result"
    }
   ],
   "source": [
    "g = generator_cities()\n",
    "l = list(g)\n",
    "l"
   ]
  },
  {
   "cell_type": "code",
   "execution_count": 48,
   "id": "9d90dd26-3c16-4972-aeee-806a2f128638",
   "metadata": {},
   "outputs": [
    {
     "data": {
      "text/plain": [
       "'TOULOUSE'"
      ]
     },
     "execution_count": 48,
     "metadata": {},
     "output_type": "execute_result"
    }
   ],
   "source": [
    "g = generator_cities()\n",
    "max(g)"
   ]
  },
  {
   "cell_type": "code",
   "execution_count": 49,
   "id": "3d4acfec-f847-4864-9df5-62e1688ec3bf",
   "metadata": {},
   "outputs": [
    {
     "data": {
      "text/plain": [
       "['TOULOUSE', 'LYON', 'PAU', 'PARIS']"
      ]
     },
     "execution_count": 49,
     "metadata": {},
     "output_type": "execute_result"
    }
   ],
   "source": [
    "# list comprhension\n",
    "[ c.upper() for c in cities ]"
   ]
  },
  {
   "cell_type": "markdown",
   "id": "b07c005e-a84f-493d-910e-243f0f9d6376",
   "metadata": {},
   "source": [
    "### Fibonacci infinite"
   ]
  },
  {
   "cell_type": "code",
   "execution_count": 56,
   "id": "f5044ff5-2ad1-4ee7-a95b-52b4bf676be4",
   "metadata": {},
   "outputs": [],
   "source": [
    "def fibo_infinite():\n",
    "    a = 0\n",
    "    b = 1\n",
    "    yield a\n",
    "    yield b\n",
    "    while True:\n",
    "        a, b = b, a + b\n",
    "        yield b"
   ]
  },
  {
   "cell_type": "code",
   "execution_count": 57,
   "id": "8b207038-6c0e-4b4e-9d02-611cb3143314",
   "metadata": {},
   "outputs": [
    {
     "data": {
      "text/plain": [
       "<generator object fibo_infinite at 0x00000251D720B100>"
      ]
     },
     "execution_count": 57,
     "metadata": {},
     "output_type": "execute_result"
    }
   ],
   "source": [
    "g = fibo_infinite()\n",
    "g"
   ]
  },
  {
   "cell_type": "code",
   "execution_count": 58,
   "id": "aca38731-fad9-468b-88b4-d61010869613",
   "metadata": {},
   "outputs": [
    {
     "name": "stdout",
     "output_type": "stream",
     "text": [
      "0\n",
      "1\n",
      "1\n",
      "2\n",
      "3\n",
      "5\n",
      "8\n",
      "13\n",
      "21\n",
      "34\n"
     ]
    }
   ],
   "source": [
    "for _ in range(10):\n",
    "    v = next(g)\n",
    "    print(v)"
   ]
  },
  {
   "cell_type": "code",
   "execution_count": 64,
   "id": "1df75b21-9d12-4e3e-9729-d7963f6eb912",
   "metadata": {},
   "outputs": [
    {
     "data": {
      "text/plain": [
       "233"
      ]
     },
     "execution_count": 64,
     "metadata": {},
     "output_type": "execute_result"
    }
   ],
   "source": [
    "# execute this cell as many times as you want\n",
    "next(g)"
   ]
  },
  {
   "cell_type": "markdown",
   "id": "ec1098bb-7092-4263-983a-f403c5d942f0",
   "metadata": {},
   "source": [
    "### Fibonacci finite"
   ]
  },
  {
   "cell_type": "code",
   "execution_count": 62,
   "id": "68f87bd3-ffcc-4e95-b320-ef0aa37bbe5a",
   "metadata": {},
   "outputs": [],
   "source": [
    "def fibo_n(n):\n",
    "    \"\"\" generate n values of Fibonacci series\"\"\"\n",
    "    a = 0\n",
    "    b = 1\n",
    "    if n > 0:\n",
    "        yield a\n",
    "    if n > 1:\n",
    "        yield b\n",
    "    for _ in range(n-2):\n",
    "        a, b = b, a + b\n",
    "        yield b"
   ]
  },
  {
   "cell_type": "code",
   "execution_count": 72,
   "id": "7a715e3a-9634-421d-bb49-9a25077af7f4",
   "metadata": {},
   "outputs": [
    {
     "name": "stdout",
     "output_type": "stream",
     "text": [
      "[]\n",
      "[0]\n",
      "[0, 1]\n",
      "[0, 1, 1, 2, 3, 5, 8, 13, 21, 34]\n"
     ]
    }
   ],
   "source": [
    "print(list(fibo_n(0)))\n",
    "print(list(fibo_n(1)))\n",
    "print(list(fibo_n(2)))\n",
    "print(list(fibo_n(10)))"
   ]
  },
  {
   "cell_type": "markdown",
   "id": "20d4b7a7-c947-4b08-b693-8457c844aa05",
   "metadata": {},
   "source": [
    "## 3. Iterator/Iterable"
   ]
  },
  {
   "cell_type": "code",
   "execution_count": 93,
   "id": "080d57c3-a779-4676-abbe-96bcc0453c7c",
   "metadata": {},
   "outputs": [
    {
     "data": {
      "text/plain": [
       "<list_iterator at 0x251d6e48130>"
      ]
     },
     "execution_count": 93,
     "metadata": {},
     "output_type": "execute_result"
    }
   ],
   "source": [
    "it = iter(cities)\n",
    "assert '__next__' in dir(it) # duck typing\n",
    "assert isinstance(it, Iterator) # inheritance\n",
    "assert isinstance(it, Iterable) # inheritance\n",
    "it"
   ]
  },
  {
   "cell_type": "code",
   "execution_count": 89,
   "id": "55b4edb2-d7d2-453f-83b5-2e594b5570c9",
   "metadata": {},
   "outputs": [
    {
     "name": "stdout",
     "output_type": "stream",
     "text": [
      "Next city: Toulouse\n",
      "Next city: Lyon\n",
      "Next city: Pau\n",
      "Next city: Paris\n"
     ]
    }
   ],
   "source": [
    "while True:\n",
    "    try:\n",
    "        city = next(it)\n",
    "        print(\"Next city:\", city)\n",
    "    except StopIteration:\n",
    "        break"
   ]
  },
  {
   "cell_type": "code",
   "execution_count": 90,
   "id": "17ae4973-0e7a-419e-b82d-a0eec36c61b3",
   "metadata": {},
   "outputs": [
    {
     "data": {
      "text/plain": [
       "<list_iterator at 0x251d6e4a950>"
      ]
     },
     "execution_count": 90,
     "metadata": {},
     "output_type": "execute_result"
    }
   ],
   "source": [
    "it2 = iter(it)\n",
    "assert  it2 is it\n",
    "it2"
   ]
  },
  {
   "cell_type": "code",
   "execution_count": 92,
   "id": "66904fe6-52e5-477f-a0e4-c1d38efdc96b",
   "metadata": {},
   "outputs": [
    {
     "data": {
      "text/plain": [
       "'Toulouse'"
      ]
     },
     "execution_count": 92,
     "metadata": {},
     "output_type": "execute_result"
    }
   ],
   "source": [
    "# an iterator is iterable, so any function with an arg iterable can accept it\n",
    "it = iter(cities)\n",
    "max(it)"
   ]
  },
  {
   "cell_type": "code",
   "execution_count": 98,
   "id": "459c4119-ee16-400b-ad40-8724bef30209",
   "metadata": {},
   "outputs": [
    {
     "data": {
      "text/plain": [
       "[(0, 'Toulouse', 8, 'T'),\n",
       " (1, 'Lyon', 4, 'o'),\n",
       " (2, 'Pau', 3, 'u'),\n",
       " (3, 'Paris', 5, 'l')]"
      ]
     },
     "execution_count": 98,
     "metadata": {},
     "output_type": "execute_result"
    }
   ],
   "source": [
    "cities_with_extra = list(\n",
    "    zip(\n",
    "        range(1_000_000_000_000_000),     # lazy + iterable\n",
    "        cities,                           # iterable\n",
    "        (len(city) for city in cities),   # generator: iterator/iterable\n",
    "        iter(cities[0])                   # iterator/iterable\n",
    "    )\n",
    ")\n",
    "cities_with_extra"
   ]
  },
  {
   "cell_type": "code",
   "execution_count": 97,
   "id": "62a7f1d4-a79e-4e3f-835a-cb67a573bc51",
   "metadata": {},
   "outputs": [
    {
     "data": {
      "text/plain": [
       "range(0, 10)"
      ]
     },
     "execution_count": 97,
     "metadata": {},
     "output_type": "execute_result"
    }
   ],
   "source": [
    "# range is another lazy object, iterable\n",
    "range(10)"
   ]
  }
 ],
 "metadata": {
  "kernelspec": {
   "display_name": "k311",
   "language": "python",
   "name": "k311"
  },
  "language_info": {
   "codemirror_mode": {
    "name": "ipython",
    "version": 3
   },
   "file_extension": ".py",
   "mimetype": "text/x-python",
   "name": "python",
   "nbconvert_exporter": "python",
   "pygments_lexer": "ipython3",
   "version": "3.11.0"
  }
 },
 "nbformat": 4,
 "nbformat_minor": 5
}
